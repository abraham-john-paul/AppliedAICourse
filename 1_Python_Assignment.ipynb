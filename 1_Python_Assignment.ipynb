{
  "nbformat": 4,
  "nbformat_minor": 0,
  "metadata": {
    "kernelspec": {
      "display_name": "Python 3",
      "language": "python",
      "name": "python3"
    },
    "language_info": {
      "codemirror_mode": {
        "name": "ipython",
        "version": 3
      },
      "file_extension": ".py",
      "mimetype": "text/x-python",
      "name": "python",
      "nbconvert_exporter": "python",
      "pygments_lexer": "ipython3",
      "version": "3.6.8"
    },
    "colab": {
      "name": "1.Python Assignment.ipynb",
      "provenance": [],
      "collapsed_sections": [],
      "include_colab_link": true
    }
  },
  "cells": [
    {
      "cell_type": "markdown",
      "metadata": {
        "id": "view-in-github",
        "colab_type": "text"
      },
      "source": [
        "<a href=\"https://colab.research.google.com/github/abraham-john-paul/AppliedAICourse/blob/main/1_Python_Assignment.ipynb\" target=\"_parent\"><img src=\"https://colab.research.google.com/assets/colab-badge.svg\" alt=\"Open In Colab\"/></a>"
      ]
    },
    {
      "cell_type": "markdown",
      "metadata": {
        "id": "l0ZzOlyxB-kf"
      },
      "source": [
        "<h1>Python: without numpy or sklearn </h1>"
      ]
    },
    {
      "cell_type": "markdown",
      "metadata": {
        "id": "C0xO8JV9B-ki"
      },
      "source": [
        "<h3> Q1: Given two matrices please print the product of those two matrices </h3>\n",
        "<pre>\n",
        "\n",
        "Ex 1: A   = [[1 3 4]\n",
        "             [2 5 7]\n",
        "             [5 9 6]]\n",
        "      B   = [[1 0 0]\n",
        "             [0 1 0]\n",
        "             [0 0 1]]\n",
        "      A*B = [[1 3 4]\n",
        "             [2 5 7]\n",
        "             [5 9 6]]\n",
        "\n",
        "     \n",
        "Ex 2: A   = [[1 2]\n",
        "             [3 4]]\n",
        "      B   = [[1 2 3 4 5]\n",
        "             [5 6 7 8 9]]\n",
        "      A*B = [[11 14 17 20 23]\n",
        "             [23 30 36 42 51]]\n",
        "             \n",
        "Ex 3: A   = [[1 2]\n",
        "             [3 4]]\n",
        "      B   = [[1 4]\n",
        "             [5 6]\n",
        "             [7 8]\n",
        "             [9 6]]\n",
        "      A*B =Not possible\n",
        "</pre>"
      ]
    },
    {
      "cell_type": "code",
      "metadata": {
        "id": "rnssAfpgB-kj",
        "outputId": "ce201bf9-684e-46d3-fca9-6d655c60e8cf",
        "colab": {
          "base_uri": "https://localhost:8080/",
          "height": 35
        }
      },
      "source": [
        "# write your python code here\n",
        "# you can take the above example as sample input for your program to test\n",
        "# it should work for any general input try not to hard code for only given input examples\n",
        "\n",
        "\n",
        "# you can free to change all these codes/structure\n",
        "# here A and B are list of lists\n",
        "# A   = [[1, 3, 4],\n",
        "#        [2, 5, 7],\n",
        "#         [5, 9, 6]]\n",
        "# B   = [[1, 0, 0],\n",
        "#        [0, 1, 0],\n",
        "#        [0, 0, 1]]\n",
        "A   = [[1, 2],\n",
        "        [3, 4]]\n",
        "B   = [[1, 2, 3, 4, 5],\n",
        "        [5, 6, 7, 8, 9]]\n",
        "\n",
        "def matrix_mul(A, B):\n",
        "    # write your code\n",
        "    if not A or not B:\n",
        "        return 'Not possible'\n",
        "    \n",
        "    nrowA, ncolA = len(A), len(A[0])\n",
        "    nrowB, ncolB = len(B), len(B[0])\n",
        "    \n",
        "    if ncolA != nrowB:\n",
        "        return 'Not possible'\n",
        "    \n",
        "    res = [[0 for i in range(ncolB)] for j in range(nrowA)]\n",
        "\n",
        "    for i in range(nrowA):\n",
        "        for j in range(ncolB):\n",
        "            for k in range(ncolA):\n",
        "                res[i][j] += A[i][k] * B[k][j]\n",
        "    \n",
        "    return res\n",
        "    \n",
        "matrix_mul(A, B)"
      ],
      "execution_count": null,
      "outputs": [
        {
          "output_type": "execute_result",
          "data": {
            "text/plain": [
              "[[11, 14, 17, 20, 23], [23, 30, 37, 44, 51]]"
            ]
          },
          "metadata": {
            "tags": []
          },
          "execution_count": 1
        }
      ]
    },
    {
      "cell_type": "markdown",
      "metadata": {
        "id": "at4VwLggB-kn"
      },
      "source": [
        "<h3> Q2: Select a number randomly with probability proportional to its magnitude from the given array of n elements</h3>\n",
        "\n",
        "consider an experiment, selecting an element from the list A randomly with probability proportional to its magnitude.\n",
        "assume we are doing the same experiment for 100 times with replacement, in each experiment you will print a number that is selected randomly from A.\n",
        "\n",
        "<pre>\n",
        "Ex 1: A = [0 5 27 6 13 28 100 45 10 79]\n",
        "let f(x) denote the number of times x getting selected in 100 experiments.\n",
        "f(100) > f(79) > f(45) > f(28) > f(27) > f(13) > f(10) > f(6) > f(5) > f(0)\n",
        "</pre>"
      ]
    },
    {
      "cell_type": "code",
      "metadata": {
        "id": "B6S2dpBhB-kn",
        "outputId": "57f1b6ba-315a-4023-e34a-e76487307648",
        "colab": {
          "base_uri": "https://localhost:8080/",
          "height": 35
        }
      },
      "source": [
        "from random import uniform\n",
        "from bisect import bisect_right\n",
        "from collections import Counter\n",
        "# write your python code here\n",
        "# you can take the above example as sample input for your program to test\n",
        "# it should work for any general input try not to hard code for only given input examples\n",
        "\n",
        "A = [0, 5, 27, 6, 13, 28, 100, 45, 10, 79]\n",
        "# you can free to change all these codes/structure\n",
        "def pick_a_number_from_list(A):\n",
        "    total = sum(A)\n",
        "    cum_sum_list = [A[0]/total]\n",
        "    for i in A[1:]:\n",
        "        cum_sum_list.append(cum_sum_list[-1] + i/total)\n",
        "    random_no = uniform(0, 1)\n",
        "    return A[bisect_right(cum_sum_list, random_no, 0, len(A))]\n",
        "\n",
        "def sampling_based_on_magnitued():\n",
        "    number = []\n",
        "    for i in range(1,100):\n",
        "        number.append(pick_a_number_from_list(A))\n",
        "    print(Counter(number))\n",
        "\n",
        "sampling_based_on_magnitued()"
      ],
      "execution_count": null,
      "outputs": [
        {
          "output_type": "stream",
          "text": [
            "Counter({100: 29, 79: 23, 45: 14, 27: 14, 28: 9, 6: 3, 10: 3, 13: 3, 5: 1})\n"
          ],
          "name": "stdout"
        }
      ]
    },
    {
      "cell_type": "markdown",
      "metadata": {
        "id": "D1xQy2WWB-kq"
      },
      "source": [
        "<h3> Q3: Replace the digits in the string with #</h3>\n",
        "\n",
        "consider a string that will have digits in that, we need to remove all the not digits and replace the digits with #\n",
        "<pre>\n",
        "Ex 1: A = 234                Output: ###\n",
        "Ex 2: A = a2b3c4             Output: ###\n",
        "Ex 3: A = abc                Output:   (empty string)\n",
        "Ex 5: A = #2a$#b%c%561#      Output: ####\n",
        "</pre>"
      ]
    },
    {
      "cell_type": "code",
      "metadata": {
        "id": "fxczi2jzB-kr",
        "outputId": "1f8309ae-01ff-44cb-ea98-3dbb363ab1a9",
        "colab": {
          "base_uri": "https://localhost:8080/",
          "height": 90
        }
      },
      "source": [
        "import re\n",
        "# write your python code here\n",
        "# you can take the above example as sample input for your program to test\n",
        "# it should work for any general input try not to hard code for only given input examples\n",
        "\n",
        "# you can free to change all these codes/structure\n",
        "# String: it will be the input to your program\n",
        "def replace_digits(String):\n",
        "    res = \"\"\n",
        "    for c in String:\n",
        "        if c.isnumeric():\n",
        "            res += \"#\"\n",
        "    \n",
        "    return res # modified string which is after replacing the # with digits\n",
        "    \n",
        "ip = ['234', 'a2b3c4', 'abc', '#2a$#b%c%561#']\n",
        "for i in ip:\n",
        "    print(replace_digits(i))"
      ],
      "execution_count": null,
      "outputs": [
        {
          "output_type": "stream",
          "text": [
            "###\n",
            "###\n",
            "\n",
            "####\n"
          ],
          "name": "stdout"
        }
      ]
    },
    {
      "cell_type": "markdown",
      "metadata": {
        "id": "j7h0Ywg7B-kw"
      },
      "source": [
        "<h3> Q4: Students marks dashboard</h3>\n",
        "\n",
        "consider the marks list of class students given two lists <br>\n",
        "Students = ['student1','student2','student3','student4','student5','student6','student7','student8','student9','student10'] <br>\n",
        "Marks = [45, 78, 12, 14, 48, 43, 45, 98, 35, 80] <br>\n",
        "from the above two lists the Student[0] got Marks[0],  Student[1] got Marks[1] and so on <br><br>\n",
        "your task is to print the name of students\n",
        "<strong>a. Who got top 5 ranks, in the descending order of marks</strong> <br>\n",
        "<strong>b. Who got least 5 ranks, in the increasing order of marks</strong><br>\n",
        "<strong>d. Who got marks between  &gt;25th percentile &lt;75th percentile, in the increasing order of marks</strong>\n",
        "\n",
        "<pre>\n",
        "Ex 1: \n",
        "Students=['student1','student2','student3','student4','student5','student6','student7','student8','student9','student10'] \n",
        "Marks = [45, 78, 12, 14, 48, 43, 47, 98, 35, 80]\n",
        "a. \n",
        "student8  98\n",
        "student10 80\n",
        "student2  78\n",
        "student5  48\n",
        "student7  47\n",
        "b.\n",
        "student3 12\n",
        "student4 14\n",
        "student9 35\n",
        "student6 43\n",
        "student1 45\n",
        "c.\n",
        "student9 35\n",
        "student6 43\n",
        "student1 45\n",
        "student7 47\n",
        "student5 48\n",
        "</pre>"
      ]
    },
    {
      "cell_type": "code",
      "metadata": {
        "id": "cxPJgItsB-kx",
        "outputId": "95036be7-ad62-4561-b71e-1d18047e0ecf",
        "colab": {
          "base_uri": "https://localhost:8080/",
          "height": 344
        }
      },
      "source": [
        "import math\n",
        "# write your python code here\n",
        "# you can take the above example as sample input for your program to test\n",
        "# it should work for any general input try not to hard code for only given input examples\n",
        "\n",
        "# you can free to change all these codes/structure\n",
        "def display_dash_board(students, marks):\n",
        "    n = len(students)\n",
        "    marks, students = zip(*sorted(zip(marks, students)))\n",
        "    # write code for computing top top 5 students\n",
        "    top_5_students = zip(students[n - 1:(n - 5 - 1): -1], marks[n - 1:(n - 5 - 1): -1])\n",
        "    # write code for computing top least 5 students\n",
        "    least_5_students = zip(students[:5], marks[:5])\n",
        "    # write code for computing top least 5 students\n",
        "    pos_of_25th_percentile = math.ceil((25 * n) / 100) - 1\n",
        "    pos_of_75th_percentile = math.ceil((75 * n) / 100) - 1\n",
        "    students_within_25_and_75 = zip(students[pos_of_25th_percentile: pos_of_75th_percentile], marks[pos_of_25th_percentile: pos_of_75th_percentile])\n",
        "    \n",
        "    return top_5_students, least_5_students, students_within_25_and_75\n",
        "students = ['student1','student2','student3','student4','student5','student6','student7','student8','student9','student10']\n",
        "marks = [45, 78, 12, 14, 48, 43, 47, 98, 35, 80]\n",
        "top_5_students, least_5_students, students_within_25_and_75 = display_dash_board(students, marks)\n",
        "for i in \"abc\":\n",
        "    print(i)\n",
        "    if i == 'a':\n",
        "        pstudents, pmarks = zip(*top_5_students)\n",
        "    elif i == 'b':\n",
        "        pstudents, pmarks = zip(*least_5_students)\n",
        "    else:\n",
        "        pstudents, pmarks = zip(*students_within_25_and_75)\n",
        "    for student, mark in zip(pstudents, pmarks):\n",
        "        print(student, mark)"
      ],
      "execution_count": null,
      "outputs": [
        {
          "output_type": "stream",
          "text": [
            "a\n",
            "student8 98\n",
            "student10 80\n",
            "student2 78\n",
            "student5 48\n",
            "student7 47\n",
            "b\n",
            "student3 12\n",
            "student4 14\n",
            "student9 35\n",
            "student6 43\n",
            "student1 45\n",
            "c\n",
            "student9 35\n",
            "student6 43\n",
            "student1 45\n",
            "student7 47\n",
            "student5 48\n"
          ],
          "name": "stdout"
        }
      ]
    },
    {
      "cell_type": "markdown",
      "metadata": {
        "id": "qha0OhQHB-k1"
      },
      "source": [
        "<h3> Q5: Find the closest points</h3>\n",
        "\n",
        "consider you have given n data points in the form of list of tuples like S=[(x1,y1),(x2,y2),(x3,y3),(x4,y4),(x5,y5),..,(xn,yn)] and a point P=(p,q) <br> your task is to find 5 closest points(based on cosine distance) in S from P\n",
        "<br>cosine distance between two points (x,y) and (p,q) is defind as $cos^{-1}(\\frac{(x\\cdot p+y\\cdot q)}{\\sqrt(x^2+y^2)\\cdot\\sqrt(p^2+q^2)})$\n",
        "<pre>\n",
        "Ex:\n",
        "\n",
        "S= [(1,2),(3,4),(-1,1),(6,-7),(0, 6),(-5,-8),(-1,-1)(6,0),(1,-1)]\n",
        "P= (3,-4)\n",
        "<img src='https://i.imgur.com/vIFPOcG.jpg', width=300>\n",
        "Output:\n",
        "(6,-7)\n",
        "(1,-1)\n",
        "(6,0)\n",
        "(-5,-8)\n",
        "(-1,-1)\n",
        "</pre>"
      ]
    },
    {
      "cell_type": "code",
      "metadata": {
        "id": "wA5I1g-2B-k2",
        "outputId": "5848332a-3aab-461c-a498-dd59889d8b20",
        "colab": {
          "base_uri": "https://localhost:8080/",
          "height": 108
        }
      },
      "source": [
        "import math\n",
        "\n",
        "# write your python code here\n",
        "# you can take the above example as sample input for your program to test\n",
        "# it should work for any general input try not to hard code for only given input examples\n",
        "# you can free to change all these codes/structure\n",
        "\n",
        "\n",
        "# here S is list of tuples and P is a tuple ot len=2\n",
        "def closest_points_to_p(S, P):\n",
        "    p, q = P\n",
        "    distance = []\n",
        "    sum_psq_and_qsq = (p**2 + q**2)\n",
        "\n",
        "    for x, y in S:\n",
        "        value = math.acos((x*p + y*q)/(math.pow((x**2 + y**2)*sum_psq_and_qsq, 0.5)))\n",
        "        distance.append(value)\n",
        "    _, points = zip(*sorted(zip(distance, S)))\n",
        "\n",
        "    return points[:5]\n",
        "    # return closest_points_to_p  # its list of tuples\n",
        "\n",
        "S= [(1,2),(3,4),(-1,1),(6,-7),(0, 6),(-5,-8),(-1,-1), (6,0),(1,-1)]\n",
        "P= (3,-4)\n",
        "points = closest_points_to_p(S, P)\n",
        "print(*points, sep='\\n')"
      ],
      "execution_count": null,
      "outputs": [
        {
          "output_type": "stream",
          "text": [
            "(6, -7)\n",
            "(1, -1)\n",
            "(6, 0)\n",
            "(-5, -8)\n",
            "(-1, -1)\n"
          ],
          "name": "stdout"
        }
      ]
    },
    {
      "cell_type": "markdown",
      "metadata": {
        "id": "-g11jeAiB-k5"
      },
      "source": [
        "<h3> Q6: Find Which line separates oranges and apples</h3>\n",
        "consider you have given two set of data points in the form of list of tuples like \n",
        "<pre>\n",
        "Red =[(R11,R12),(R21,R22),(R31,R32),(R41,R42),(R51,R52),..,(Rn1,Rn2)]\n",
        "Blue=[(B11,B12),(B21,B22),(B31,B32),(B41,B42),(B51,B52),..,(Bm1,Bm2)]\n",
        "</pre>\n",
        "and set of line equations(in the string formate, i.e list of strings)\n",
        "<pre>\n",
        "Lines = [a1x+b1y+c1,a2x+b2y+c2,a3x+b3y+c3,a4x+b4y+c4,..,K lines]\n",
        "Note: you need to string parsing here and get the coefficients of x,y and intercept\n",
        "</pre>\n",
        "your task is to for each line that is given print \"YES\"/\"NO\", you will print yes, if all the red points are one side of the line and blue points are other side of the line, otherwise no\n",
        "<pre>\n",
        "Ex:\n",
        "Red= [(1,1),(2,1),(4,2),(2,4), (-1,4)]\n",
        "Blue= [(-2,-1),(-1,-2),(-3,-2),(-3,-1),(1,-3)]\n",
        "Lines=[\"1x+1y+0\",\"1x-1y+0\",\"1x+0y-3\",\"0x+1y-0.5\"]\n",
        "<img src='https://i.imgur.com/DoQf7mE.jpg' width=400>\n",
        "Output:\n",
        "YES\n",
        "NO\n",
        "NO\n",
        "YES\n",
        "</pre>"
      ]
    },
    {
      "cell_type": "code",
      "metadata": {
        "id": "eRxExaTRB-k6",
        "outputId": "5950134d-c3aa-46a1-a983-59dd3875f6ea",
        "colab": {
          "base_uri": "https://localhost:8080/",
          "height": 90
        }
      },
      "source": [
        "import math\n",
        "import re\n",
        "# write your python code here\n",
        "# you can take the above example as sample input for your program to test\n",
        "# it should work for any general input try not to hard code for only given input strings\n",
        "\n",
        "\n",
        "# you can free to change all these codes/structure\n",
        "def i_am_the_one(red,blue,line):\n",
        "    start = 0\n",
        "    params = [float(i) for i in re.findall(r'-?\\d+\\.?\\d*', line)]\n",
        "    \n",
        "    nblue = len(blue)\n",
        "    nred = len(red) \n",
        "    isRight = True if params[0] * red[0][0] + params[1] * red[0][1] + params[2] >= 0 else False\n",
        "    for x, y in red[1:]:\n",
        "        value = True if params[0] * x + params[1] * y + params[2] >= 0 else False\n",
        "        if isRight != value:\n",
        "            return 'NO'\n",
        "\n",
        "    isRight = True if params[0] * blue[0][0] + params[1] * blue[0][1] + params[2] >= 0 else False\n",
        "    for x, y in blue[1:]:\n",
        "        value = True if params[0] * x + params[1] * y + params[2] >= 0 else False\n",
        "        if isRight != value:\n",
        "            return 'NO'\n",
        "    \n",
        "    return 'YES'\n",
        "    \n",
        "\n",
        "Red= [(1,1),(2,1),(4,2),(2,4), (-1,4)]\n",
        "Blue= [(-2,-1),(-1,-2),(-3,-2),(-3,-1),(1,-3)]\n",
        "Lines=[\"1x+1y+0\",\"1x-1y+0\",\"1x+0y-3\",\"0x+1y-0.5\"]\n",
        "\n",
        "for i in Lines:\n",
        "    yes_or_no = i_am_the_one(Red, Blue, i)\n",
        "    print(yes_or_no) # the returned value"
      ],
      "execution_count": null,
      "outputs": [
        {
          "output_type": "stream",
          "text": [
            "YES\n",
            "NO\n",
            "NO\n",
            "YES\n"
          ],
          "name": "stdout"
        }
      ]
    },
    {
      "cell_type": "markdown",
      "metadata": {
        "id": "9OBpURbNB-k9"
      },
      "source": [
        "<h3> Q7: Filling the missing values in the specified formate</h3>\n",
        "You will be given a string with digits and '\\_'(missing value) symbols you have to replace the '\\_' symbols as explained \n",
        "<pre>\n",
        "Ex 1: _, _, _, 24 ==> 24/4, 24/4, 24/4, 24/4 i.e we. have distributed the 24 equally to all 4 places <br>\n",
        "Ex 2: 40, _, _, _, 60 ==> (60+40)/5,(60+40)/5,(60+40)/5,(60+40)/5,(60+40)/5 ==> 20, 20, 20, 20, 20 i.e. the sum of (60+40) is distributed qually to all 5 places<br>\n",
        "Ex 3: 80, _, _, _, _  ==> 80/5,80/5,80/5,80/5,80/5 ==> 16, 16, 16, 16, 16 i.e. the 80 is distributed qually to all 5 missing values that are right to it<br>\n",
        "Ex 4: _, _, 30, _, _, _, 50, _, _  \n",
        "==> we will fill the missing values from left to right \n",
        "    a. first we will distribute the 30 to left two missing values (10, 10, 10, _, _, _, 50, _, _)\n",
        "    b. now distribute the sum (10+50) missing values in between (10, 10, 12, 12, 12, 12, 12, _, _) \n",
        "    c. now we will distribute 12 to right side missing values (10, 10, 12, 12, 12, 12, 4, 4, 4)\n",
        "</pre>\n",
        "for a given string with comma seprate values, which will have both missing values numbers like ex: \"_, _, x, _, _, _\"\n",
        "you need fill the missing values\n",
        "\n",
        "Q: your program reads a string like ex: \"_, _, x, _, _, _\" and returns the filled sequence\n",
        "\n",
        "Ex: \n",
        "<pre>\n",
        "Input1: \"_,_,_,24\"\n",
        "Output1: 6,6,6,6\n",
        "\n",
        "Input2: \"40,_,_,_,60\"\n",
        "Output2: 20,20,20,20,20\n",
        "\n",
        "Input3: \"80,_,_,_,_\"\n",
        "Output3: 16,16,16,16,16\n",
        "\n",
        "Input4: \"_,_,30,_,_,_,50,_,_\"\n",
        "Output4: 10,10,12,12,12,12,4,4,4\n",
        "</pre>\n",
        "\n"
      ]
    },
    {
      "cell_type": "code",
      "metadata": {
        "id": "nZmpzHs_B-k-",
        "outputId": "0de798c8-6b12-4a5a-f26e-fe2bb7700e50",
        "colab": {
          "base_uri": "https://localhost:8080/",
          "height": 35
        }
      },
      "source": [
        "# write your python code here\n",
        "# you can take the above example as sample input for your program to test\n",
        "# it should work for any general input try not to hard code for only given input strings\n",
        "\n",
        "\n",
        "# you can free to change all these codes/structure\n",
        "def curve_smoothing(string):\n",
        "    pos_value = {}\n",
        "    string_list = string.strip().split(',')\n",
        "    for i, s in enumerate(string_list):\n",
        "        if s.isnumeric():\n",
        "            pos_value[i] = int(s)\n",
        "    res = []\n",
        "    start = 0\n",
        "    n = 0\n",
        "    for i in pos_value.keys():\n",
        "        if start < i:\n",
        "            n = i - start + 1\n",
        "            if start not in pos_value.keys():\n",
        "                q, r = divmod(pos_value[i],  n)\n",
        "                q = q if r == 0 else pos_value[i] / n\n",
        "                res.extend([q] * n)\n",
        "            else:\n",
        "                q, r = divmod(pos_value[i] + pos_value[start],  n)\n",
        "                q = q if r == 0 else (pos_value[i] + pos_value[start]) / n\n",
        "                res = res[:start] + [q] * n\n",
        "            start = i\n",
        "        pos_value[i] = res[-1]\n",
        "    else:\n",
        "        n = len(string_list)\n",
        "        if start != n - 1:\n",
        "            n =  n - start\n",
        "            q, r = divmod(res[-1],  n)\n",
        "            q = q if r == 0 else res[-1] / n\n",
        "            res = res[:len(res) -1] + [q] * n\n",
        "        \n",
        "    return res\n",
        "\n",
        "S=  \"_,_,30,_,_,_,50,_,_\"\n",
        "smoothed_values = curve_smoothing(S)\n",
        "print(','.join(map(str, smoothed_values)))"
      ],
      "execution_count": 2,
      "outputs": [
        {
          "output_type": "stream",
          "text": [
            "10,10,12,12,12,12,4,4,4\n"
          ],
          "name": "stdout"
        }
      ]
    },
    {
      "cell_type": "markdown",
      "metadata": {
        "id": "RBz4pzlfB-lB"
      },
      "source": [
        "<h3> Q8: Filling the missing values in the specified formate</h3>\n",
        "You will be given a list of lists, each sublist will be of length 2 i.e. [[x,y],[p,q],[l,m]..[r,s]]\n",
        "consider its like a martrix of n rows and two columns\n",
        "1. the first column F will contain only 5 uniques values (F1, F2, F3, F4, F5)\n",
        "2. the second column S will contain only 3 uniques values (S1, S2, S3)\n",
        "<pre>\n",
        "your task is to find\n",
        "a. Probability of P(F=F1|S==S1), P(F=F1|S==S2), P(F=F1|S==S3)\n",
        "b. Probability of P(F=F2|S==S1), P(F=F2|S==S2), P(F=F2|S==S3)\n",
        "c. Probability of P(F=F3|S==S1), P(F=F3|S==S2), P(F=F3|S==S3)\n",
        "d. Probability of P(F=F4|S==S1), P(F=F4|S==S2), P(F=F4|S==S3)\n",
        "e. Probability of P(F=F5|S==S1), P(F=F5|S==S2), P(F=F5|S==S3)\n",
        "</pre>\n",
        "Ex:\n",
        "\n",
        "<pre>\n",
        "[[F1,S1],[F2,S2],[F3,S3],[F1,S2],[F2,S3],[F3,S2],[F2,S1],[F4,S1],[F4,S3],[F5,S1]]\n",
        "\n",
        "a. P(F=F1|S==S1)=1/4, P(F=F1|S==S2)=1/3, P(F=F1|S==S3)=0/3\n",
        "b. P(F=F2|S==S1)=1/4, P(F=F2|S==S2)=1/3, P(F=F2|S==S3)=1/3\n",
        "c. P(F=F3|S==S1)=0/4, P(F=F3|S==S2)=1/3, P(F=F3|S==S3)=1/3\n",
        "d. P(F=F4|S==S1)=1/4, P(F=F4|S==S2)=0/3, P(F=F4|S==S3)=1/3\n",
        "e. P(F=F5|S==S1)=1/4, P(F=F5|S==S2)=0/3, P(F=F5|S==S3)=0/3\n",
        "</pre>\n",
        "\n",
        "\n"
      ]
    },
    {
      "cell_type": "code",
      "metadata": {
        "id": "e-1giz1MB-lC",
        "outputId": "9c8043ac-e5c0-4149-a544-897230984e58",
        "colab": {
          "base_uri": "https://localhost:8080/",
          "height": 108
        }
      },
      "source": [
        "# write your python code here\n",
        "# you can take the above example as sample input for your program to test\n",
        "# it should work for any general input try not to hard code for only given input strings\n",
        "\n",
        "\n",
        "\n",
        "# you can free to change all these codes/structure\n",
        "def compute_conditional_probabilites(A):\n",
        "    nS1, nS2, nS3 = 0, 0, 0\n",
        "    nF1S1, nF2S1, nF3S1, nF4S1, nF5S1 = 0, 0, 0, 0, 0\n",
        "    nF1S2, nF2S2, nF3S2, nF4S2, nF5S2 = 0, 0, 0, 0, 0 \n",
        "    nF1S3, nF2S3, nF3S3, nF4S3, nF5S3 = 0, 0, 0, 0, 0\n",
        "\n",
        "    for f, s in A:\n",
        "        if s == 'S1':\n",
        "            nS1 += 1\n",
        "            if f == 'F1':\n",
        "                nF1S1 += 1\n",
        "            elif f == 'F2':\n",
        "                nF2S1 += 1\n",
        "            elif f == 'F3':\n",
        "                nF3S1 += 1\n",
        "            elif f == 'F4':\n",
        "                nF4S1 += 1\n",
        "            else:\n",
        "               nF5S1 += 1 \n",
        "        elif s == 'S2':\n",
        "            nS2 += 1\n",
        "            if f == 'F1':\n",
        "                nF1S2 += 1\n",
        "            elif f == 'F2':\n",
        "                nF2S2 += 1\n",
        "            elif f == 'F3':\n",
        "                nF3S2 += 1\n",
        "            elif f == 'F4':\n",
        "                nF4S2 += 1\n",
        "            else:\n",
        "               nF5S2 += 1 \n",
        "        else:\n",
        "            nS3 += 1\n",
        "            if f == 'F1':\n",
        "                nF1S3 += 1\n",
        "            elif f == 'F2':\n",
        "                nF2S3 += 1\n",
        "            elif f == 'F3':\n",
        "                nF3S3 += 1\n",
        "            elif f == 'F4':\n",
        "                nF4S3 += 1\n",
        "            else:\n",
        "               nF5S3 += 1\n",
        "    print(f'a. P(F=F1|S==S1)={nF1S1}/{nS1}, P(F=F1|S==S2)={nF1S2}/{nS2}, P(F=F1|S==S3)={nF1S3}/{nS3}')\n",
        "    print(f'b. P(F=F2|S==S1)={nF2S1}/{nS1}, P(F=F2|S==S2)={nF2S2}/{nS2}, P(F=F2|S==S3)={nF2S3}/{nS3}')\n",
        "    print(f'c. P(F=F3|S==S1)={nF3S1}/{nS1}, P(F=F3|S==S2)={nF3S2}/{nS2}, P(F=F3|S==S3)={nF3S3}/{nS3}')\n",
        "    print(f'd. P(F=F4|S==S1)={nF4S1}/{nS1}, P(F=F4|S==S2)={nF4S2}/{nS2}, P(F=F4|S==S3)={nF4S3}/{nS3}')\n",
        "    print(f'e. P(F=F5|S==S1)={nF5S1}/{nS1}, P(F=F5|S==S2)={nF5S2}/{nS2}, P(F=F4|S==S3)={nF5S3}/{nS3}')\n",
        "\n",
        "A = [['F1','S1'],['F2','S2'],['F3','S3'],['F1','S2'],['F2','S3'],['F3','S2'],['F2','S1'],['F4','S1'],['F4','S3'],['F5','S1']]\n",
        "\n",
        "compute_conditional_probabilites(A)"
      ],
      "execution_count": null,
      "outputs": [
        {
          "output_type": "stream",
          "text": [
            "a. P(F=F1|S==S1)=1/4, P(F=F1|S==S2)=1/3, P(F=F1|S==S3)=0/3\n",
            "b. P(F=F2|S==S1)=1/4, P(F=F2|S==S2)=1/3, P(F=F2|S==S3)=1/3\n",
            "c. P(F=F3|S==S1)=0/4, P(F=F3|S==S2)=1/3, P(F=F3|S==S3)=1/3\n",
            "d. P(F=F4|S==S1)=1/4, P(F=F4|S==S2)=0/3, P(F=F4|S==S3)=1/3\n",
            "e. P(F=F5|S==S1)=1/4, P(F=F5|S==S2)=0/3, P(F=F4|S==S3)=0/3\n"
          ],
          "name": "stdout"
        }
      ]
    },
    {
      "cell_type": "markdown",
      "metadata": {
        "id": "n4HS87QmB-lF"
      },
      "source": [
        "<h3> Q9: Given two sentances S1, S2</h3>\n",
        "You will be given two sentances S1, S2 your task is to find \n",
        "<pre>\n",
        "a. Number of common words between S1, S2\n",
        "b. Words in S1 but not in S2\n",
        "c. Words in S2 but not in S1\n",
        "</pre>\n",
        "\n",
        "Ex: \n",
        "<pre>\n",
        "S1= \"the first column F will contain only 5 uniques values\"\n",
        "S2= \"the second column S will contain only 3 uniques values\"\n",
        "Output:\n",
        "a. 7\n",
        "b. ['first','F','5']\n",
        "c. ['second','S','3']\n",
        "</pre>"
      ]
    },
    {
      "cell_type": "code",
      "metadata": {
        "id": "Ez7hlHK0B-lG",
        "outputId": "f8522392-b612-40ff-9189-51aa3a8f9979",
        "colab": {
          "base_uri": "https://localhost:8080/",
          "height": 72
        }
      },
      "source": [
        "# write your python code here\n",
        "# you can take the above example as sample input for your program to test\n",
        "# it should work for any general input try not to hard code for only given input strings\n",
        "\n",
        "# you can free to change all these codes/structure\n",
        "def string_features(S1, S2):\n",
        "    S1 = set(S1.strip().split(' '))\n",
        "    S2 = set(S2.strip().split(' '))\n",
        "    a = len(S1.intersection(S2))\n",
        "    b = list(S1.difference(S2))\n",
        "    c = list(S2.difference(S1))\n",
        "    return a, b, c\n",
        "\n",
        "S1= \"the first column F will contain only 5 uniques values\"\n",
        "S2= \"the second column S will contain only 3 uniques values\"\n",
        "a,b,c = string_features(S1, S2)\n",
        "print('a.', a)\n",
        "print('b.', b)\n",
        "print('c.', c)"
      ],
      "execution_count": null,
      "outputs": [
        {
          "output_type": "stream",
          "text": [
            "a. 7\n",
            "b. ['5', 'first', 'F']\n",
            "c. ['second', 'S', '3']\n"
          ],
          "name": "stdout"
        }
      ]
    },
    {
      "cell_type": "markdown",
      "metadata": {
        "id": "XefXVEjCB-lI"
      },
      "source": [
        "<h3> Q10: Given two sentances S1, S2</h3>\n",
        "You will be given a list of lists, each sublist will be of length 2 i.e. [[x,y],[p,q],[l,m]..[r,s]]\n",
        "consider its like a martrix of n rows and two columns\n",
        "\n",
        "a. the first column Y will contain interger values <br>\n",
        "b. the second column $Y_{score}$ will be having float values <br>\n",
        "Your task is to find the value of $f(Y,Y_{score}) = -1*\\frac{1}{n}\\Sigma_{for each Y,Y_{score} pair}(Ylog10(Y_{score})+(1-Y)log10(1-Y_{score}))$ here n is the number of rows in the matrix\n",
        "<pre>\n",
        "Ex:\n",
        "[[1, 0.4], [0, 0.5], [0, 0.9], [0, 0.3], [0, 0.6], [1, 0.1], [1, 0.9], [1, 0.8]]\n",
        "output:\n",
        "0.4243099\n",
        "</pre>\n",
        "$\\frac{-1}{8}\\cdot((1\\cdot log_{10}(0.4)+0\\cdot log_{10}(0.6))+(0\\cdot log_{10}(0.5)+1\\cdot log_{10}(0.5)) + ... + (1\\cdot log_{10}(0.8)+0\\cdot log_{10}(0.2)) )$"
      ]
    },
    {
      "cell_type": "code",
      "metadata": {
        "id": "N9zkagyNB-lJ",
        "outputId": "10c4ba68-4c64-469f-d823-e14ccc09202c",
        "colab": {
          "base_uri": "https://localhost:8080/",
          "height": 35
        }
      },
      "source": [
        "# write your python code here\n",
        "# you can take the above example as sample input for your program to test\n",
        "# it should work for any general input try not to hard code for only given input strings\n",
        "from math import log\n",
        "\n",
        "# you can free to change all these codes/structure\n",
        "def compute_log_loss(A):\n",
        "    n = len(A)\n",
        "    loss = 0\n",
        "\n",
        "    for y, y_score in A:\n",
        "        loss += ((y * log(y_score, 10)) + ((1 - y) * log(1 - y_score, 10)))\n",
        "\n",
        "    return loss * (-1 / n)\n",
        "\n",
        "A = [[1, 0.4], [0, 0.5], [0, 0.9], [0, 0.3], [0, 0.6], [1, 0.1], [1, 0.9], [1, 0.8]]\n",
        "loss = compute_log_loss(A)\n",
        "print(loss)"
      ],
      "execution_count": null,
      "outputs": [
        {
          "output_type": "stream",
          "text": [
            "0.42430993457031635\n"
          ],
          "name": "stdout"
        }
      ]
    }
  ]
}