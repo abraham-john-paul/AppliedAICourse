{
  "nbformat": 4,
  "nbformat_minor": 0,
  "metadata": {
    "colab": {
      "name": "5_Performance_metrics_Instructions.ipynb",
      "provenance": [],
      "collapsed_sections": [],
      "include_colab_link": true
    },
    "language_info": {
      "codemirror_mode": {
        "name": "ipython",
        "version": 3
      },
      "file_extension": ".py",
      "mimetype": "text/x-python",
      "name": "python",
      "nbconvert_exporter": "python",
      "pygments_lexer": "ipython3",
      "version": "3.6.8"
    },
    "kernelspec": {
      "display_name": "Python 3",
      "language": "python",
      "name": "python3"
    }
  },
  "cells": [
    {
      "cell_type": "markdown",
      "metadata": {
        "id": "view-in-github",
        "colab_type": "text"
      },
      "source": [
        "<a href=\"https://colab.research.google.com/github/abraham-john-paul/AppliedAICourse/blob/main/5_Performance_metrics_Instructions.ipynb\" target=\"_parent\"><img src=\"https://colab.research.google.com/assets/colab-badge.svg\" alt=\"Open In Colab\"/></a>"
      ]
    },
    {
      "cell_type": "markdown",
      "metadata": {
        "id": "s0Ej_bXyQvnV"
      },
      "source": [
        "# Compute performance metrics for the given Y and Y_score without sklearn"
      ]
    },
    {
      "cell_type": "code",
      "metadata": {
        "id": "4CHb6NE7Qvnc"
      },
      "source": [
        "import numpy as np\n",
        "import pandas as pd\n",
        "# other than these two you should not import any other packages"
      ],
      "execution_count": 43,
      "outputs": []
    },
    {
      "cell_type": "markdown",
      "metadata": {
        "id": "KbsWXuDaQvnq"
      },
      "source": [
        "<pre>\n",
        "<font color='red'><b>A.</b></font> Compute performance metrics for the given data <strong>5_a.csv</strong>\n",
        "   <b>Note 1:</b> in this data you can see number of positive points >> number of negatives points\n",
        "   <b>Note 2:</b> use pandas or numpy to read the data from <b>5_a.csv</b>\n",
        "   <b>Note 3:</b> you need to derive the class labels from given score</pre> $y^{pred}= \\text{[0 if y_score < 0.5 else 1]}$\n",
        "\n",
        "<pre>\n",
        "<ol>\n",
        "<li> Compute Confusion Matrix </li>\n",
        "<li> Compute F1 Score </li>\n",
        "<li> Compute AUC Score, you need to compute different thresholds and for each threshold compute tpr,fpr and then use               numpy.trapz(tpr_array, fpr_array) <a href='https://stackoverflow.com/q/53603376/4084039'>https://stackoverflow.com/q/53603376/4084039</a>, <a href='https://stackoverflow.com/a/39678975/4084039'>https://stackoverflow.com/a/39678975/4084039</a> Note: it should be numpy.trapz(tpr_array, fpr_array) not numpy.trapz(fpr_array, tpr_array)</li>\n",
        "<li> Compute Accuracy Score </li>\n",
        "</ol>\n",
        "</pre>"
      ]
    },
    {
      "cell_type": "code",
      "metadata": {
        "id": "WaFLW7oBQvnt",
        "colab": {
          "base_uri": "https://localhost:8080/"
        },
        "outputId": "5c58d3d6-c9d5-4ca6-8619-9bc5cf1a5f11"
      },
      "source": [
        "# write your code here\r\n",
        "data = np.loadtxt('/content/5_a.csv', delimiter=',', skiprows=1)\r\n",
        "print('no. of positive data: ', np.sum(data[:, 0] == float(1)))\r\n",
        "print('no. of negetive data: ', np.sum(data[:, 0] != float(1)))\r\n",
        "# pd_data = pd.read_csv('/content/5_a.csv')\r\n",
        "# print(pd_data['y'].value_counts())"
      ],
      "execution_count": 55,
      "outputs": [
        {
          "output_type": "stream",
          "text": [
            "no. of positive data:  10000\n",
            "no. of negetive data:  100\n"
          ],
          "name": "stdout"
        }
      ]
    },
    {
      "cell_type": "code",
      "metadata": {
        "id": "7dwD-8kMQxO6"
      },
      "source": [
        "# Creating y_pred\r\n",
        "y_pred = np.where(data[:, 1] > 0.5, 1, 0)\r\n",
        "y = data[:, 0]"
      ],
      "execution_count": 56,
      "outputs": []
    },
    {
      "cell_type": "code",
      "metadata": {
        "colab": {
          "base_uri": "https://localhost:8080/"
        },
        "id": "K2SWRqDNjA92",
        "outputId": "638cfd05-dac9-4141-eb38-d2daacc4754d"
      },
      "source": [
        "# Calculatiing no, of TP, TN, FP, FN\r\n",
        "nTP = (np.logical_and(y == 1.0, y_pred == 1)).sum()\r\n",
        "nTN = (np.logical_and(y == 0.0, y_pred == 0)).sum()\r\n",
        "nFP = (np.logical_and(y == 0.0, y_pred == 1)).sum()\r\n",
        "nFN = (np.logical_and(y == 1.0, y_pred == 0)).sum()\r\n",
        "# print(nTP, nTN, nFP, nFN)\r\n",
        "# Creating confusion matrix from TP, TN, FP, FN\r\n",
        "confusion_matrix = np.array([[nTP, nFP], [nFN, nTN]])\r\n",
        "print('confusion matrix :', confusion_matrix)"
      ],
      "execution_count": 57,
      "outputs": [
        {
          "output_type": "stream",
          "text": [
            "confusion matrix : [[10000   100]\n",
            " [    0     0]]\n"
          ],
          "name": "stdout"
        }
      ]
    },
    {
      "cell_type": "code",
      "metadata": {
        "colab": {
          "base_uri": "https://localhost:8080/"
        },
        "id": "KXxNt-KPjCs8",
        "outputId": "8c20099f-b928-48a9-df19-0b9d25de77b1"
      },
      "source": [
        "# Caluculating Precision and Recall\r\n",
        "precision = nTP / (nTP + nFP)\r\n",
        "recall = nTP / (nTP + nFN)\r\n",
        "print('precision :', precision)\r\n",
        "print('recall :', recall)"
      ],
      "execution_count": 47,
      "outputs": [
        {
          "output_type": "stream",
          "text": [
            "precision : 0.9900990099009901\n",
            "recall : 1.0\n"
          ],
          "name": "stdout"
        }
      ]
    },
    {
      "cell_type": "code",
      "metadata": {
        "colab": {
          "base_uri": "https://localhost:8080/"
        },
        "id": "ScLQ_oADlihc",
        "outputId": "2d3f2bd8-f944-46dd-a27a-39fbf41e0e23"
      },
      "source": [
        "# Computing F1 Score\r\n",
        "f1_score = 2 * (precision * recall) / (precision + recall)\r\n",
        "print('f1 score :', f1_score)"
      ],
      "execution_count": 48,
      "outputs": [
        {
          "output_type": "stream",
          "text": [
            "f1 score : 0.9950248756218906\n"
          ],
          "name": "stdout"
        }
      ]
    },
    {
      "cell_type": "code",
      "metadata": {
        "colab": {
          "base_uri": "https://localhost:8080/"
        },
        "id": "suxtJIfYl9HK",
        "outputId": "390eb597-161e-4947-e6d1-eac456e62701"
      },
      "source": [
        "# Computing Accuracy Score\r\n",
        "accuracy_score = np.trace(confusion_matrix) / np.sum(confusion_matrix)\r\n",
        "print('accuracy score :', accuracy_score)"
      ],
      "execution_count": 49,
      "outputs": [
        {
          "output_type": "stream",
          "text": [
            "accuracy score : 0.9900990099009901\n"
          ],
          "name": "stdout"
        }
      ]
    },
    {
      "cell_type": "code",
      "metadata": {
        "colab": {
          "base_uri": "https://localhost:8080/"
        },
        "id": "xmeNFwa6ob2Y",
        "outputId": "aa45126f-a64a-40f7-c82c-8f3d0532aa4a"
      },
      "source": [
        "# Computing AUC Score\r\n",
        "probabiltiy_score = data[:, 1]\r\n",
        "probabiltiy_score = np.sort(np.unique(probabiltiy_score))\r\n",
        "plotting_data = []\r\n",
        "# y = data[:, 1]\r\n",
        "for threshold in probabiltiy_score:\r\n",
        "    threshold_y_pred = np.where(probabiltiy_score > threshold, 1, 0)\r\n",
        "    nTP = (np.logical_and(y == 1.0, threshold_y_pred == 1)).sum()\r\n",
        "    nFN = (np.logical_and(y == 1.0, threshold_y_pred == 0)).sum()\r\n",
        "    TPR = nTP/(nTP + nFN)\r\n",
        "    FPR = 1 - TPR\r\n",
        "    plotting_data.append([TPR, FPR])\r\n",
        "df = pd.DataFrame(data=plotting_data, columns=['TPR', 'FPR'])\r\n",
        "tpr_array = np.array([i for i, _ in plotting_data])\r\n",
        "fpr_array = np.array([i for _, i in plotting_data])\r\n",
        "auc_score = np.trapz(tpr_array, fpr_array)\r\n",
        "print('auc score :', auc_score)"
      ],
      "execution_count": 63,
      "outputs": [
        {
          "output_type": "stream",
          "text": [
            "auc score : 0.49990000500000004\n"
          ],
          "name": "stdout"
        }
      ]
    },
    {
      "cell_type": "code",
      "metadata": {
        "colab": {
          "base_uri": "https://localhost:8080/",
          "height": 297
        },
        "id": "FCtUlAVmvRXk",
        "outputId": "7ddcfe5d-36b1-4dce-d579-c53b7bd2b013"
      },
      "source": [
        "import seaborn as sns\r\n",
        "sns.lineplot(x='TPR', y='FPR', data=df)"
      ],
      "execution_count": 64,
      "outputs": [
        {
          "output_type": "execute_result",
          "data": {
            "text/plain": [
              "<matplotlib.axes._subplots.AxesSubplot at 0x7fdef7d0da90>"
            ]
          },
          "metadata": {
            "tags": []
          },
          "execution_count": 64
        },
        {
          "output_type": "display_data",
          "data": {
            "image/png": "[encoded data removed]",
            "text/plain": [
              "<Figure size 432x288 with 1 Axes>"
            ]
          },
          "metadata": {
            "tags": [],
            "needs_background": "light"
          }
        }
      ]
    },
    {
      "cell_type": "markdown",
      "metadata": {
        "id": "V5KZem1BQvn2"
      },
      "source": [
        "<pre>\n",
        "<font color='red'><b>B.</b></font> Compute performance metrics for the given data <strong>5_b.csv</strong>\n",
        "   <b>Note 1:</b> in this data you can see number of positive points << number of negatives points\n",
        "   <b>Note 2:</b> use pandas or numpy to read the data from <b>5_b.csv</b>\n",
        "   <b>Note 3:</b> you need to derive the class labels from given score</pre> $y^{pred}= \\text{[0 if y_score < 0.5 else 1]}$\n",
        "\n",
        "<pre>\n",
        "<ol>\n",
        "<li> Compute Confusion Matrix </li>\n",
        "<li> Compute F1 Score </li>\n",
        "<li> Compute AUC Score, you need to compute different thresholds and for each threshold compute tpr,fpr and then use               numpy.trapz(tpr_array, fpr_array) <a href='https://stackoverflow.com/q/53603376/4084039'>https://stackoverflow.com/q/53603376/4084039</a>, <a href='https://stackoverflow.com/a/39678975/4084039'>https://stackoverflow.com/a/39678975/4084039</a></li>\n",
        "<li> Compute Accuracy Score </li>\n",
        "</ol>\n",
        "</pre>"
      ]
    },
    {
      "cell_type": "code",
      "metadata": {
        "id": "U2sKlq0YQvn5",
        "colab": {
          "base_uri": "https://localhost:8080/"
        },
        "outputId": "e6cff77a-be0b-4ca5-b863-673231ae2e46"
      },
      "source": [
        "# write your code\r\n",
        "df = pd.read_csv('/content/5_b.csv')\r\n",
        "df.info()"
      ],
      "execution_count": 100,
      "outputs": [
        {
          "output_type": "stream",
          "text": [
            "<class 'pandas.core.frame.DataFrame'>\n",
            "RangeIndex: 10100 entries, 0 to 10099\n",
            "Data columns (total 2 columns):\n",
            " #   Column  Non-Null Count  Dtype  \n",
            "---  ------  --------------  -----  \n",
            " 0   y       10100 non-null  float64\n",
            " 1   proba   10100 non-null  float64\n",
            "dtypes: float64(2)\n",
            "memory usage: 157.9 KB\n"
          ],
          "name": "stdout"
        }
      ]
    },
    {
      "cell_type": "code",
      "metadata": {
        "colab": {
          "base_uri": "https://localhost:8080/"
        },
        "id": "dvv_r0StDw_G",
        "outputId": "34474c33-9541-4b7d-da3f-0ec9ba5afa08"
      },
      "source": [
        "df['y_pred'] = df.apply(lambda row: 0 if row.proba < 0.5 else 1, axis=1)"
      ],
      "execution_count": 74,
      "outputs": [
        {
          "output_type": "execute_result",
          "data": {
            "text/plain": [
              "array([0, 1])"
            ]
          },
          "metadata": {
            "tags": []
          },
          "execution_count": 74
        }
      ]
    },
    {
      "cell_type": "code",
      "metadata": {
        "colab": {
          "base_uri": "https://localhost:8080/"
        },
        "id": "i7g2l7IfMaDe",
        "outputId": "50af7aa2-897e-4c9b-e0e7-2dac7cda8b14"
      },
      "source": [
        "nTP = len(df[(df['y'] == 1.0) & (df['y_pred'] == 1)])\r\n",
        "nTN = len(df[(df['y'] == 0.0) & (df['y_pred'] == 0)])\r\n",
        "nFP = len(df[(df['y'] == 0.0) & (df['y_pred'] == 1)])\r\n",
        "nFN = len(df[(df['y'] == 1.0) & (df['y_pred'] == 0)])\r\n",
        "# Computing Confusion Matrix\r\n",
        "confusion_matrix = np.array([[nTP, nFP], [nFN, nTN]])\r\n",
        "print('confusion matrix :', confusion_matrix)"
      ],
      "execution_count": 82,
      "outputs": [
        {
          "output_type": "stream",
          "text": [
            "confusion matrix : [[  55  239]\n",
            " [  45 9761]]\n"
          ],
          "name": "stdout"
        }
      ]
    },
    {
      "cell_type": "code",
      "metadata": {
        "colab": {
          "base_uri": "https://localhost:8080/"
        },
        "id": "FE0HCsl7Pcti",
        "outputId": "e3e2ee19-6b8b-497d-da03-c42bacda0f4f"
      },
      "source": [
        "# Caluculating Precision and Recall\r\n",
        "precision = nTP / (nTP + nFP)\r\n",
        "recall = nTP / (nTP + nFN)\r\n",
        "print('precision :', precision)\r\n",
        "print('recall :', recall)"
      ],
      "execution_count": 84,
      "outputs": [
        {
          "output_type": "stream",
          "text": [
            "precision : 0.1870748299319728\n",
            "recall : 0.55\n"
          ],
          "name": "stdout"
        }
      ]
    },
    {
      "cell_type": "code",
      "metadata": {
        "colab": {
          "base_uri": "https://localhost:8080/"
        },
        "id": "a-cFghM4Qi6-",
        "outputId": "80af9abc-a03f-42f4-b27c-e8a9843ccb29"
      },
      "source": [
        "# Computing F1 Score\r\n",
        "f1_score = 2 * (precision * recall) / (precision + recall)\r\n",
        "print('f1 score :', f1_score)"
      ],
      "execution_count": 85,
      "outputs": [
        {
          "output_type": "stream",
          "text": [
            "f1 score : 0.2791878172588833\n"
          ],
          "name": "stdout"
        }
      ]
    },
    {
      "cell_type": "code",
      "metadata": {
        "colab": {
          "base_uri": "https://localhost:8080/"
        },
        "id": "MZY8HLcsQjnp",
        "outputId": "e7bf0daa-fcbc-4037-dba0-ec313f29086b"
      },
      "source": [
        "# Computing Accuracy Score\r\n",
        "accuracy_score = np.trace(confusion_matrix) / np.sum(confusion_matrix)\r\n",
        "print('accuracy score :', accuracy_score)"
      ],
      "execution_count": 86,
      "outputs": [
        {
          "output_type": "stream",
          "text": [
            "accuracy score : 0.9718811881188119\n"
          ],
          "name": "stdout"
        }
      ]
    },
    {
      "cell_type": "code",
      "metadata": {
        "colab": {
          "base_uri": "https://localhost:8080/"
        },
        "id": "rLXufomTQnaW",
        "outputId": "9334159b-36a6-404c-81e3-376146c5fd37"
      },
      "source": [
        "# Computing AUC Score\r\n",
        "probabiltiy_score = df['proba'].unique()\r\n",
        "plotting_data = []\r\n",
        "# y = data[:, 1]\r\n",
        "for threshold in probabiltiy_score:\r\n",
        "    threshold_y_pred = np.where(probabiltiy_score > threshold, 1, 0)\r\n",
        "    nTP = (np.logical_and(y == 1.0, threshold_y_pred == 1)).sum()\r\n",
        "    nFN = (np.logical_and(y == 1.0, threshold_y_pred == 0)).sum()\r\n",
        "    TPR = nTP/(nTP + nFN)\r\n",
        "    FPR = 1 - TPR\r\n",
        "    plotting_data.append([TPR, FPR])\r\n",
        "\r\n",
        "plot_df = pd.DataFrame(data=plotting_data, columns=['TPR', 'FPR'])\r\n",
        "tpr_array = np.array([i for i, _ in plotting_data])\r\n",
        "fpr_array = np.array([i for _, i in plotting_data])\r\n",
        "auc_score = np.trapz(tpr_array, fpr_array)\r\n",
        "print('auc score :', auc_score)"
      ],
      "execution_count": 102,
      "outputs": [
        {
          "output_type": "stream",
          "text": [
            "auc score : 0.020381594999995867\n"
          ],
          "name": "stdout"
        }
      ]
    },
    {
      "cell_type": "code",
      "metadata": {
        "colab": {
          "base_uri": "https://localhost:8080/",
          "height": 297
        },
        "id": "Q6AMSfU_UU2k",
        "outputId": "d5f5654b-5c9e-4cf0-9d74-cd45b064aa19"
      },
      "source": [
        "import seaborn as sns\r\n",
        "sns.lineplot(x='TPR', y='FPR', data=plot_df)"
      ],
      "execution_count": 105,
      "outputs": [
        {
          "output_type": "execute_result",
          "data": {
            "text/plain": [
              "<matplotlib.axes._subplots.AxesSubplot at 0x7fdee00f8128>"
            ]
          },
          "metadata": {
            "tags": []
          },
          "execution_count": 105
        },
        {
          "output_type": "display_data",
          "data": {
            "image/png": "[encoded data removed]",
            "text/plain": [
              "<Figure size 432x288 with 1 Axes>"
            ]
          },
          "metadata": {
            "tags": [],
            "needs_background": "light"
          }
        }
      ]
    },
    {
      "cell_type": "markdown",
      "metadata": {
        "id": "GiPGonTzQvoB"
      },
      "source": [
        "<font color='red'><b>C.</b></font> Compute the best threshold (similarly to ROC curve computation) of probability which gives lowest values of metric <b>A</b> for the given data <strong>5_c.csv</strong>\n",
        "<br>\n",
        "\n",
        "you will be predicting label of a data points like this: $y^{pred}= \\text{[0 if y_score < threshold  else 1]}$\n",
        "\n",
        "$ A = 500 \\times \\text{number of false negative} + 100 \\times \\text{numebr of false positive}$\n",
        "\n",
        "<pre>\n",
        "   <b>Note 1:</b> in this data you can see number of negative points > number of positive points\n",
        "   <b>Note 2:</b> use pandas or numpy to read the data from <b>5_c.csv</b>\n",
        "</pre>"
      ]
    },
    {
      "cell_type": "code",
      "metadata": {
        "id": "x5HIJzq1QvoE"
      },
      "source": [
        " # write your code"
      ],
      "execution_count": 53,
      "outputs": []
    },
    {
      "cell_type": "markdown",
      "metadata": {
        "id": "sD4CcgjXQvoL"
      },
      "source": [
        "<pre>\n",
        "<font color='red'><b>D.</b></font> Compute performance metrics(for regression) for the given data <strong>5_d.csv</strong>\n",
        "    <b>Note 2:</b> use pandas or numpy to read the data from <b>5_d.csv</b>\n",
        "    <b>Note 1:</b> <b>5_d.csv</b> will having two columns Y and predicted_Y both are real valued features\n",
        "<ol>\n",
        "<li> Compute Mean Square Error </li>\n",
        "<li> Compute MAPE: https://www.youtube.com/watch?v=ly6ztgIkUxk</li>\n",
        "<li> Compute R^2 error: https://en.wikipedia.org/wiki/Coefficient_of_determination#Definitions </li>\n",
        "</ol>\n",
        "</pre>"
      ]
    }
  ]
}