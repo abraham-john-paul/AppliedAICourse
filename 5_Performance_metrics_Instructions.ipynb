{
  "nbformat": 4,
  "nbformat_minor": 0,
  "metadata": {
    "colab": {
      "name": "5_Performance_metrics_Instructions.ipynb",
      "provenance": [],
      "collapsed_sections": [],
      "include_colab_link": true
    },
    "language_info": {
      "codemirror_mode": {
        "name": "ipython",
        "version": 3
      },
      "file_extension": ".py",
      "mimetype": "text/x-python",
      "name": "python",
      "nbconvert_exporter": "python",
      "pygments_lexer": "ipython3",
      "version": "3.6.8"
    },
    "kernelspec": {
      "display_name": "Python 3",
      "language": "python",
      "name": "python3"
    }
  },
  "cells": [
    {
      "cell_type": "markdown",
      "metadata": {
        "id": "view-in-github",
        "colab_type": "text"
      },
      "source": [
        "<a href=\"https://colab.research.google.com/github/abraham-john-paul/AppliedAICourse/blob/main/5_Performance_metrics_Instructions.ipynb\" target=\"_parent\"><img src=\"https://colab.research.google.com/assets/colab-badge.svg\" alt=\"Open In Colab\"/></a>"
      ]
    },
    {
      "cell_type": "markdown",
      "metadata": {
        "id": "s0Ej_bXyQvnV"
      },
      "source": [
        "# Compute performance metrics for the given Y and Y_score without sklearn"
      ]
    },
    {
      "cell_type": "code",
      "metadata": {
        "id": "4CHb6NE7Qvnc"
      },
      "source": [
        "import numpy as np\n",
        "import pandas as pd\n",
        "# other than these two you should not import any other packages"
      ],
      "execution_count": 79,
      "outputs": []
    },
    {
      "cell_type": "markdown",
      "metadata": {
        "id": "KbsWXuDaQvnq"
      },
      "source": [
        "<pre>\n",
        "<font color='red'><b>A.</b></font> Compute performance metrics for the given data <strong>5_a.csv</strong>\n",
        "   <b>Note 1:</b> in this data you can see number of positive points >> number of negatives points\n",
        "   <b>Note 2:</b> use pandas or numpy to read the data from <b>5_a.csv</b>\n",
        "   <b>Note 3:</b> you need to derive the class labels from given score</pre> $y^{pred}= \\text{[0 if y_score < 0.5 else 1]}$\n",
        "\n",
        "<pre>\n",
        "<ol>\n",
        "<li> Compute Confusion Matrix </li>\n",
        "<li> Compute F1 Score </li>\n",
        "<li> Compute AUC Score, you need to compute different thresholds and for each threshold compute tpr,fpr and then use               numpy.trapz(tpr_array, fpr_array) <a href='https://stackoverflow.com/q/53603376/4084039'>https://stackoverflow.com/q/53603376/4084039</a>, <a href='https://stackoverflow.com/a/39678975/4084039'>https://stackoverflow.com/a/39678975/4084039</a> Note: it should be numpy.trapz(tpr_array, fpr_array) not numpy.trapz(fpr_array, tpr_array)</li>\n",
        "<li> Compute Accuracy Score </li>\n",
        "</ol>\n",
        "</pre>"
      ]
    },
    {
      "cell_type": "code",
      "metadata": {
        "id": "WaFLW7oBQvnt",
        "colab": {
          "base_uri": "https://localhost:8080/"
        },
        "outputId": "1db8ebb8-ee12-4695-92cf-f10324049a36"
      },
      "source": [
        "# write your code here\r\n",
        "data = np.loadtxt('/content/5_a.csv', delimiter=',', skiprows=1)\r\n",
        "print('no. of positive data: ', np.sum(data[:, 0] == float(1)))\r\n",
        "print('no. of negetive data: ', np.sum(data[:, 0] != float(1)))\r\n",
        "# pd_data = pd.read_csv('/content/5_a.csv')\r\n",
        "# print(pd_data['y'].value_counts())"
      ],
      "execution_count": 80,
      "outputs": [
        {
          "output_type": "stream",
          "text": [
            "no. of positive data:  10000\n",
            "no. of negetive data:  100\n"
          ],
          "name": "stdout"
        }
      ]
    },
    {
      "cell_type": "code",
      "metadata": {
        "id": "7dwD-8kMQxO6"
      },
      "source": [
        "# Creating y_pred\r\n",
        "y_pred = np.where(data[:, 1] > 0.5, 1, 0)\r\n",
        "y = data[:, 0]"
      ],
      "execution_count": 81,
      "outputs": []
    },
    {
      "cell_type": "code",
      "metadata": {
        "colab": {
          "base_uri": "https://localhost:8080/"
        },
        "id": "K2SWRqDNjA92",
        "outputId": "c00a631e-349a-41b9-e1b6-65ce2848cacf"
      },
      "source": [
        "# Calculatiing no, of TP, TN, FP, FN\r\n",
        "nTP = (np.logical_and(y == 1.0, y_pred == 1)).sum()\r\n",
        "nTN = (np.logical_and(y == 0.0, y_pred == 0)).sum()\r\n",
        "nFP = (np.logical_and(y == 0.0, y_pred == 1)).sum()\r\n",
        "nFN = (np.logical_and(y == 1.0, y_pred == 0)).sum()\r\n",
        "# print(nTP, nTN, nFP, nFN)\r\n",
        "# Creating confusion matrix from TP, TN, FP, FN\r\n",
        "confusion_matrix = np.array([[nTP, nFP], [nFN, nTN]])\r\n",
        "print('confusion matrix :', confusion_matrix)"
      ],
      "execution_count": 82,
      "outputs": [
        {
          "output_type": "stream",
          "text": [
            "confusion matrix : [[10000   100]\n",
            " [    0     0]]\n"
          ],
          "name": "stdout"
        }
      ]
    },
    {
      "cell_type": "code",
      "metadata": {
        "colab": {
          "base_uri": "https://localhost:8080/"
        },
        "id": "KXxNt-KPjCs8",
        "outputId": "13596b94-1e80-4df1-969d-6b1326f2067e"
      },
      "source": [
        "# Caluculating Precision and Recall\r\n",
        "precision = nTP / (nTP + nFP)\r\n",
        "recall = nTP / (nTP + nFN)\r\n",
        "print('precision :', precision)\r\n",
        "print('recall :', recall)"
      ],
      "execution_count": 83,
      "outputs": [
        {
          "output_type": "stream",
          "text": [
            "precision : 0.9900990099009901\n",
            "recall : 1.0\n"
          ],
          "name": "stdout"
        }
      ]
    },
    {
      "cell_type": "code",
      "metadata": {
        "colab": {
          "base_uri": "https://localhost:8080/"
        },
        "id": "ScLQ_oADlihc",
        "outputId": "62a44d75-1790-44c8-e12b-6250c613ba48"
      },
      "source": [
        "# Computing F1 Score\r\n",
        "f1_score = 2 * (precision * recall) / (precision + recall)\r\n",
        "print('f1 score :', f1_score)"
      ],
      "execution_count": 84,
      "outputs": [
        {
          "output_type": "stream",
          "text": [
            "f1 score : 0.9950248756218906\n"
          ],
          "name": "stdout"
        }
      ]
    },
    {
      "cell_type": "code",
      "metadata": {
        "colab": {
          "base_uri": "https://localhost:8080/"
        },
        "id": "suxtJIfYl9HK",
        "outputId": "a68237f5-3aa1-44ca-e2d6-7ad6d00e29e4"
      },
      "source": [
        "# Computing Accuracy Score\r\n",
        "accuracy_score = np.trace(confusion_matrix) / np.sum(confusion_matrix)\r\n",
        "print('accuracy score :', accuracy_score)"
      ],
      "execution_count": 85,
      "outputs": [
        {
          "output_type": "stream",
          "text": [
            "accuracy score : 0.9900990099009901\n"
          ],
          "name": "stdout"
        }
      ]
    },
    {
      "cell_type": "code",
      "metadata": {
        "colab": {
          "base_uri": "https://localhost:8080/"
        },
        "id": "xmeNFwa6ob2Y",
        "outputId": "3c74649a-1724-4ab0-f0a5-f415edbc3b64"
      },
      "source": [
        "# Computing AUC Score\r\n",
        "data = data[data[:,1].argsort()[::-1][:n]]\r\n",
        "probabiltiy_score = data[:, 1]\r\n",
        "y = data[:, 0]\r\n",
        "plotting_data = []\r\n",
        "# y = data[:, 1]\r\n",
        "for threshold in probabiltiy_score:\r\n",
        "    threshold_y_pred = np.where(probabiltiy_score > threshold, 1, 0)\r\n",
        "    nTP = (np.logical_and(y == 1.0, threshold_y_pred == 1)).sum()\r\n",
        "    nFN = (np.logical_and(y == 1.0, threshold_y_pred == 0)).sum()\r\n",
        "    nFP = (np.logical_and(y == 0.0, threshold_y_pred == 1)).sum()\r\n",
        "    nTN = (np.logical_and(y == 0.0, threshold_y_pred == 0)).sum()\r\n",
        "    TPR = nTP/(nTP + nFN)\r\n",
        "    FPR = nFP / (nTN + nFP)\r\n",
        "    plotting_data.append([TPR, FPR])\r\n",
        "df = pd.DataFrame(data=plotting_data, columns=['TPR', 'FPR'])\r\n",
        "tpr_array = np.array([i for i, _ in plotting_data])\r\n",
        "fpr_array = np.array([i for _, i in plotting_data])\r\n",
        "auc_score = np.trapz(tpr_array, fpr_array)\r\n",
        "print('auc score :', auc_score)"
      ],
      "execution_count": 86,
      "outputs": [
        {
          "output_type": "stream",
          "text": [
            "auc score : 0.48829900000000004\n"
          ],
          "name": "stdout"
        }
      ]
    },
    {
      "cell_type": "code",
      "metadata": {
        "colab": {
          "base_uri": "https://localhost:8080/",
          "height": 297
        },
        "id": "FCtUlAVmvRXk",
        "outputId": "f0cf6009-292d-4b38-e2a4-e059e9aee4dd"
      },
      "source": [
        "import seaborn as sns\r\n",
        "sns.lineplot(x='FPR', y='TPR', data=df)"
      ],
      "execution_count": 87,
      "outputs": [
        {
          "output_type": "execute_result",
          "data": {
            "text/plain": [
              "<matplotlib.axes._subplots.AxesSubplot at 0x7f116cb10550>"
            ]
          },
          "metadata": {
            "tags": []
          },
          "execution_count": 87
        },
        {
          "output_type": "display_data",
          "data": {
            "image/png": "[encoded data removed]",
            "text/plain": [
              "<Figure size 432x288 with 1 Axes>"
            ]
          },
          "metadata": {
            "tags": [],
            "needs_background": "light"
          }
        }
      ]
    },
    {
      "cell_type": "markdown",
      "metadata": {
        "id": "V5KZem1BQvn2"
      },
      "source": [
        "<pre>\n",
        "<font color='red'><b>B.</b></font> Compute performance metrics for the given data <strong>5_b.csv</strong>\n",
        "   <b>Note 1:</b> in this data you can see number of positive points << number of negatives points\n",
        "   <b>Note 2:</b> use pandas or numpy to read the data from <b>5_b.csv</b>\n",
        "   <b>Note 3:</b> you need to derive the class labels from given score</pre> $y^{pred}= \\text{[0 if y_score < 0.5 else 1]}$\n",
        "\n",
        "<pre>\n",
        "<ol>\n",
        "<li> Compute Confusion Matrix </li>\n",
        "<li> Compute F1 Score </li>\n",
        "<li> Compute AUC Score, you need to compute different thresholds and for each threshold compute tpr,fpr and then use               numpy.trapz(tpr_array, fpr_array) <a href='https://stackoverflow.com/q/53603376/4084039'>https://stackoverflow.com/q/53603376/4084039</a>, <a href='https://stackoverflow.com/a/39678975/4084039'>https://stackoverflow.com/a/39678975/4084039</a></li>\n",
        "<li> Compute Accuracy Score </li>\n",
        "</ol>\n",
        "</pre>"
      ]
    },
    {
      "cell_type": "code",
      "metadata": {
        "id": "U2sKlq0YQvn5",
        "colab": {
          "base_uri": "https://localhost:8080/"
        },
        "outputId": "5eb8eecc-01d1-4565-b45a-fb1fa51f13fe"
      },
      "source": [
        "# write your code\r\n",
        "df = pd.read_csv('/content/5_b.csv')\r\n",
        "df.y.value_counts()"
      ],
      "execution_count": 88,
      "outputs": [
        {
          "output_type": "execute_result",
          "data": {
            "text/plain": [
              "0.0    10000\n",
              "1.0      100\n",
              "Name: y, dtype: int64"
            ]
          },
          "metadata": {
            "tags": []
          },
          "execution_count": 88
        }
      ]
    },
    {
      "cell_type": "code",
      "metadata": {
        "id": "dvv_r0StDw_G"
      },
      "source": [
        "df['y_pred'] = df.apply(lambda row: 0 if row.proba < 0.5 else 1, axis=1)"
      ],
      "execution_count": 89,
      "outputs": []
    },
    {
      "cell_type": "code",
      "metadata": {
        "colab": {
          "base_uri": "https://localhost:8080/"
        },
        "id": "i7g2l7IfMaDe",
        "outputId": "9490efaa-a595-4286-ad30-849ef8431036"
      },
      "source": [
        "nTP = len(df[(df['y'] == 1.0) & (df['y_pred'] == 1)])\r\n",
        "nTN = len(df[(df['y'] == 0.0) & (df['y_pred'] == 0)])\r\n",
        "nFP = len(df[(df['y'] == 0.0) & (df['y_pred'] == 1)])\r\n",
        "nFN = len(df[(df['y'] == 1.0) & (df['y_pred'] == 0)])\r\n",
        "# Computing Confusion Matrix\r\n",
        "confusion_matrix = np.array([[nTP, nFP], [nFN, nTN]])\r\n",
        "print('confusion matrix :', confusion_matrix)"
      ],
      "execution_count": 90,
      "outputs": [
        {
          "output_type": "stream",
          "text": [
            "confusion matrix : [[  55  239]\n",
            " [  45 9761]]\n"
          ],
          "name": "stdout"
        }
      ]
    },
    {
      "cell_type": "code",
      "metadata": {
        "colab": {
          "base_uri": "https://localhost:8080/"
        },
        "id": "FE0HCsl7Pcti",
        "outputId": "28cbbfb7-3249-403b-99f0-0cd978059533"
      },
      "source": [
        "# Caluculating Precision and Recall\r\n",
        "precision = nTP / (nTP + nFP)\r\n",
        "recall = nTP / (nTP + nFN)\r\n",
        "print('precision :', precision)\r\n",
        "print('recall :', recall)"
      ],
      "execution_count": 91,
      "outputs": [
        {
          "output_type": "stream",
          "text": [
            "precision : 0.1870748299319728\n",
            "recall : 0.55\n"
          ],
          "name": "stdout"
        }
      ]
    },
    {
      "cell_type": "code",
      "metadata": {
        "colab": {
          "base_uri": "https://localhost:8080/"
        },
        "id": "a-cFghM4Qi6-",
        "outputId": "28f311ea-4c28-4bd4-f563-d851ae5656d1"
      },
      "source": [
        "# Computing F1 Score\r\n",
        "f1_score = 2 * (precision * recall) / (precision + recall)\r\n",
        "print('f1 score :', f1_score)"
      ],
      "execution_count": 92,
      "outputs": [
        {
          "output_type": "stream",
          "text": [
            "f1 score : 0.2791878172588833\n"
          ],
          "name": "stdout"
        }
      ]
    },
    {
      "cell_type": "code",
      "metadata": {
        "colab": {
          "base_uri": "https://localhost:8080/"
        },
        "id": "MZY8HLcsQjnp",
        "outputId": "16303ed6-c73e-4c1b-b570-d232869d3781"
      },
      "source": [
        "# Computing Accuracy Score\r\n",
        "accuracy_score = np.trace(confusion_matrix) / np.sum(confusion_matrix)\r\n",
        "print('accuracy score :', accuracy_score)"
      ],
      "execution_count": 93,
      "outputs": [
        {
          "output_type": "stream",
          "text": [
            "accuracy score : 0.9718811881188119\n"
          ],
          "name": "stdout"
        }
      ]
    },
    {
      "cell_type": "code",
      "metadata": {
        "colab": {
          "base_uri": "https://localhost:8080/"
        },
        "id": "rLXufomTQnaW",
        "outputId": "cd0ab457-3448-4076-e6fa-0fce757ffa3e"
      },
      "source": [
        "# Computing AUC Score\r\n",
        "df = df.sort_values(by=['proba'], ascending=False)\r\n",
        "probabiltiy_score = df['proba'].unique()\r\n",
        "y = df['y'].to_numpy()\r\n",
        "plotting_data = []\r\n",
        "for threshold in probabiltiy_score:\r\n",
        "    threshold_y_pred = np.where(probabiltiy_score >= threshold, 1, 0)\r\n",
        "    nTP = (np.logical_and(y == 1.0, threshold_y_pred == 1)).sum()\r\n",
        "    nFN = (np.logical_and(y == 1.0, threshold_y_pred == 0)).sum()\r\n",
        "    nFP = (np.logical_and(y == 0.0, threshold_y_pred == 1)).sum()\r\n",
        "    nTN = (np.logical_and(y == 0.0, threshold_y_pred == 0)).sum()\r\n",
        "    TPR = nTP/(nTP + nFN)\r\n",
        "    FPR = nFP / (nTN + nFP)\r\n",
        "    plotting_data.append([TPR, FPR])\r\n",
        "\r\n",
        "plot_df = pd.DataFrame(data=plotting_data, columns=['TPR', 'FPR'])\r\n",
        "tpr_array = np.array([i for i, _ in plotting_data])\r\n",
        "fpr_array = np.array([i for _, i in plotting_data])\r\n",
        "auc_score = np.trapz(tpr_array, fpr_array)\r\n",
        "print('auc score :', auc_score)"
      ],
      "execution_count": 94,
      "outputs": [
        {
          "output_type": "stream",
          "text": [
            "auc score : 0.9377570000000001\n"
          ],
          "name": "stdout"
        }
      ]
    },
    {
      "cell_type": "code",
      "metadata": {
        "colab": {
          "base_uri": "https://localhost:8080/",
          "height": 297
        },
        "id": "Q6AMSfU_UU2k",
        "outputId": "9f508eb5-fad7-4656-91a3-3e872d5089aa"
      },
      "source": [
        "import seaborn as sns\r\n",
        "sns.lineplot(x='FPR', y='TPR', data=plot_df)"
      ],
      "execution_count": 95,
      "outputs": [
        {
          "output_type": "execute_result",
          "data": {
            "text/plain": [
              "<matplotlib.axes._subplots.AxesSubplot at 0x7f117d0154e0>"
            ]
          },
          "metadata": {
            "tags": []
          },
          "execution_count": 95
        },
        {
          "output_type": "display_data",
          "data": {
            "image/png": "[encoded data removed]",
            "text/plain": [
              "<Figure size 432x288 with 1 Axes>"
            ]
          },
          "metadata": {
            "tags": [],
            "needs_background": "light"
          }
        }
      ]
    },
    {
      "cell_type": "markdown",
      "metadata": {
        "id": "GiPGonTzQvoB"
      },
      "source": [
        "<font color='red'><b>C.</b></font> Compute the best threshold (similarly to ROC curve computation) of probability which gives lowest values of metric <b>A</b> for the given data <strong>5_c.csv</strong>\n",
        "<br>\n",
        "\n",
        "you will be predicting label of a data points like this: $y^{pred}= \\text{[0 if y_score < threshold  else 1]}$\n",
        "\n",
        "$ A = 500 \\times \\text{number of false negative} + 100 \\times \\text{numebr of false positive}$\n",
        "\n",
        "<pre>\n",
        "   <b>Note 1:</b> in this data you can see number of negative points > number of positive points\n",
        "   <b>Note 2:</b> use pandas or numpy to read the data from <b>5_c.csv</b>\n",
        "</pre>"
      ]
    },
    {
      "cell_type": "code",
      "metadata": {
        "id": "x5HIJzq1QvoE",
        "colab": {
          "base_uri": "https://localhost:8080/"
        },
        "outputId": "b395b544-7c9a-4504-9844-0156603269b2"
      },
      "source": [
        " # write your code\r\n",
        " df = pd.read_csv('/content/5_c.csv')\r\n",
        " df.columns"
      ],
      "execution_count": 96,
      "outputs": [
        {
          "output_type": "execute_result",
          "data": {
            "text/plain": [
              "Index(['y', 'prob'], dtype='object')"
            ]
          },
          "metadata": {
            "tags": []
          },
          "execution_count": 96
        }
      ]
    },
    {
      "cell_type": "code",
      "metadata": {
        "id": "CyeRHEGWaGYg",
        "colab": {
          "base_uri": "https://localhost:8080/"
        },
        "outputId": "d14356a4-c3ff-4ff2-8394-3b386158686b"
      },
      "source": [
        "df = df.sort_values(['prob'])\r\n",
        "# df = df.groupby(['prob'], as_index=False)\r\n",
        "probabiltiy_score = df['prob'].to_numpy()\r\n",
        "y = df.y.to_numpy()\r\n",
        "A_values = []\r\n",
        "# y = data[:, 1]\r\n",
        "for threshold in probabiltiy_score:\r\n",
        "    threshold_y_pred = np.where(probabiltiy_score > threshold, 1, 0)\r\n",
        "    nFP = (np.logical_and(y == 0.0, threshold_y_pred == 1)).sum()\r\n",
        "    nFN = (np.logical_and(y == 1.0, threshold_y_pred == 0)).sum()\r\n",
        "    A = 500 * nFN + 100 * nFP\r\n",
        "    A_values.append(A)\r\n",
        "print('best threshold :',min(A_values))"
      ],
      "execution_count": 97,
      "outputs": [
        {
          "output_type": "stream",
          "text": [
            "best threshold : 141000\n"
          ],
          "name": "stdout"
        }
      ]
    },
    {
      "cell_type": "markdown",
      "metadata": {
        "id": "sD4CcgjXQvoL"
      },
      "source": [
        "<pre>\n",
        "<font color='red'><b>D.</b></font> Compute performance metrics(for regression) for the given data <strong>5_d.csv</strong>\n",
        "    <b>Note 2:</b> use pandas or numpy to read the data from <b>5_d.csv</b>\n",
        "    <b>Note 1:</b> <b>5_d.csv</b> will having two columns Y and predicted_Y both are real valued features\n",
        "<ol>\n",
        "<li> Compute Mean Square Error </li>\n",
        "<li> Compute MAPE: https://www.youtube.com/watch?v=ly6ztgIkUxk</li>\n",
        "<li> Compute R^2 error: https://en.wikipedia.org/wiki/Coefficient_of_determination#Definitions </li>\n",
        "</ol>\n",
        "</pre>"
      ]
    },
    {
      "cell_type": "code",
      "metadata": {
        "colab": {
          "base_uri": "https://localhost:8080/"
        },
        "id": "ACvMsp-DpG4p",
        "outputId": "f1340272-50bb-47c2-a62c-745c9e815b54"
      },
      "source": [
        "data = np.loadtxt('/content/5_d.csv', delimiter=',', skiprows=1)\r\n",
        "y = data[:, 0]\r\n",
        "y_pred = data[:, 1]\r\n",
        "n = len(data)\r\n",
        "len(y), len(y_pred)"
      ],
      "execution_count": 98,
      "outputs": [
        {
          "output_type": "execute_result",
          "data": {
            "text/plain": [
              "(157200, 157200)"
            ]
          },
          "metadata": {
            "tags": []
          },
          "execution_count": 98
        }
      ]
    },
    {
      "cell_type": "code",
      "metadata": {
        "colab": {
          "base_uri": "https://localhost:8080/"
        },
        "id": "-Ag8fjtypQmC",
        "outputId": "71ce81e8-52bf-4bae-a843-197ac55a98d4"
      },
      "source": [
        "mean_square_error = np.sum(np.power(y - y_pred, 2)) / len(data)\r\n",
        "print('mean sqaure error :', mean_square_error)"
      ],
      "execution_count": 99,
      "outputs": [
        {
          "output_type": "stream",
          "text": [
            "mean sqaure error : 177.16569974554707\n"
          ],
          "name": "stdout"
        }
      ]
    },
    {
      "cell_type": "code",
      "metadata": {
        "colab": {
          "base_uri": "https://localhost:8080/"
        },
        "id": "IYqMJKJuqGZ9",
        "outputId": "72d7c376-7033-4039-f453-b3946609f0ab"
      },
      "source": [
        "# Computing Mean Absolute Percentage Error\r\n",
        "MAPE = np.sum(np.absolute(y - y_pred)) / np.sum(y)\r\n",
        "print(\"MAPE :\", MAPE)"
      ],
      "execution_count": 100,
      "outputs": [
        {
          "output_type": "stream",
          "text": [
            "MAPE : 0.1291202994009687\n"
          ],
          "name": "stdout"
        }
      ]
    },
    {
      "cell_type": "code",
      "metadata": {
        "colab": {
          "base_uri": "https://localhost:8080/"
        },
        "id": "-rq0LPHQg1fP",
        "outputId": "35f585fc-d350-475d-f788-b9e758fe1121"
      },
      "source": [
        "y_mean = np.mean(np.absolute(y))\r\n",
        "total_sum_of_squares = np.sum(np.power(y - y_mean, 2))\r\n",
        "sum_of_squares_of_residuals = np.sum(np.power(y - y_pred, 2))\r\n",
        "coeff_of_determination = 1 - (sum_of_squares_of_residuals / total_sum_of_squares)\r\n",
        "print('Coeff. of determination :', coeff_of_determination)"
      ],
      "execution_count": 101,
      "outputs": [
        {
          "output_type": "stream",
          "text": [
            "Coeff. of determination : 0.9563582786990937\n"
          ],
          "name": "stdout"
        }
      ]
    }
  ]
}