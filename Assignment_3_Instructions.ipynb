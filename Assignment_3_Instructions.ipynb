{
  "nbformat": 4,
  "nbformat_minor": 0,
  "metadata": {
    "colab": {
      "name": "Copy of Assignment_3_Instructions.ipynb",
      "provenance": [],
      "collapsed_sections": [],
      "include_colab_link": true
    },
    "kernelspec": {
      "display_name": "Python 3",
      "language": "python",
      "name": "python3"
    },
    "language_info": {
      "codemirror_mode": {
        "name": "ipython",
        "version": 3
      },
      "file_extension": ".py",
      "mimetype": "text/x-python",
      "name": "python",
      "nbconvert_exporter": "python",
      "pygments_lexer": "ipython3",
      "version": "3.7.1"
    }
  },
  "cells": [
    {
      "cell_type": "markdown",
      "metadata": {
        "id": "view-in-github",
        "colab_type": "text"
      },
      "source": [
        "<a href=\"https://colab.research.google.com/github/abraham-john-paul/AppliedAICourse/blob/main/Assignment_3_Instructions.ipynb\" target=\"_parent\"><img src=\"https://colab.research.google.com/assets/colab-badge.svg\" alt=\"Open In Colab\"/></a>"
      ]
    },
    {
      "cell_type": "markdown",
      "metadata": {
        "id": "h9464I-uxLiw"
      },
      "source": [
        "# Assignment"
      ]
    },
    {
      "cell_type": "markdown",
      "metadata": {
        "id": "IvLvmewlxLix"
      },
      "source": [
        "<font face='georgia'>\n",
        "    \n",
        "   <h4><strong>What does tf-idf mean?</strong></h4>\n",
        "\n",
        "   <p>    \n",
        "Tf-idf stands for <em>term frequency-inverse document frequency</em>, and the tf-idf weight is a weight often used in information retrieval and text mining. This weight is a statistical measure used to evaluate how important a word is to a document in a collection or corpus. The importance increases proportionally to the number of times a word appears in the document but is offset by the frequency of the word in the corpus. Variations of the tf-idf weighting scheme are often used by search engines as a central tool in scoring and ranking a document's relevance given a user query.\n",
        "</p>\n",
        "    \n",
        "   <p>\n",
        "One of the simplest ranking functions is computed by summing the tf-idf for each query term; many more sophisticated ranking functions are variants of this simple model.\n",
        "</p>\n",
        "    \n",
        "   <p>\n",
        "Tf-idf can be successfully used for stop-words filtering in various subject fields including text summarization and classification.\n",
        "</p>\n",
        "    \n",
        "</font>"
      ]
    },
    {
      "cell_type": "markdown",
      "metadata": {
        "id": "4XLaGFUMxLiy"
      },
      "source": [
        "<font face='georgia'>\n",
        "    <h4><strong>How to Compute:</strong></h4>\n",
        "\n",
        "Typically, the tf-idf weight is composed by two terms: the first computes the normalized Term Frequency (TF), aka. the number of times a word appears in a document, divided by the total number of words in that document; the second term is the Inverse Document Frequency (IDF), computed as the logarithm of the number of the documents in the corpus divided by the number of documents where the specific term appears.\n",
        "\n",
        " <ul>\n",
        "    <li>\n",
        "<strong>TF:</strong> Term Frequency, which measures how frequently a term occurs in a document. Since every document is different in length, it is possible that a term would appear much more times in long documents than shorter ones. Thus, the term frequency is often divided by the document length (aka. the total number of terms in the document) as a way of normalization: <br>\n",
        "\n",
        "$TF(t) = \\frac{\\text{Number of times term t appears in a document}}{\\text{Total number of terms in the document}}.$\n",
        "</li>\n",
        "<li>\n",
        "<strong>IDF:</strong> Inverse Document Frequency, which measures how important a term is. While computing TF, all terms are considered equally important. However it is known that certain terms, such as \"is\", \"of\", and \"that\", may appear a lot of times but have little importance. Thus we need to weigh down the frequent terms while scale up the rare ones, by computing the following: <br>\n",
        "\n",
        "$IDF(t) = \\log_{e}\\frac{\\text{Total  number of documents}} {\\text{Number of documents with term t in it}}.$\n",
        "for numerical stabiltiy we will be changing this formula little bit\n",
        "$IDF(t) = \\log_{e}\\frac{\\text{Total  number of documents}} {\\text{Number of documents with term t in it}+1}.$\n",
        "</li>\n",
        "</ul>\n",
        "\n",
        "<br>\n",
        "<h4><strong>Example</strong></h4>\n",
        "<p>\n",
        "\n",
        "Consider a document containing 100 words wherein the word cat appears 3 times. The term frequency (i.e., tf) for cat is then (3 / 100) = 0.03. Now, assume we have 10 million documents and the word cat appears in one thousand of these. Then, the inverse document frequency (i.e., idf) is calculated as log(10,000,000 / 1,000) = 4. Thus, the Tf-idf weight is the product of these quantities: 0.03 * 4 = 0.12.\n",
        "</p>\n",
        "</font>"
      ]
    },
    {
      "cell_type": "markdown",
      "metadata": {
        "id": "dg2ooa4DxLiz"
      },
      "source": [
        "## Task-1"
      ]
    },
    {
      "cell_type": "markdown",
      "metadata": {
        "id": "TAcTjhO8xLiz"
      },
      "source": [
        "<font face='georgia'>\n",
        "    <h4><strong>1. Build a TFIDF Vectorizer & compare its results with Sklearn:</strong></h4>\n",
        "\n",
        "<ul>\n",
        "    <li> As a part of this task you will be implementing TFIDF vectorizer on a collection of text documents.</li>\n",
        "    <br>\n",
        "    <li> You should compare the results of your own implementation of TFIDF vectorizer with that of sklearns implemenation TFIDF vectorizer.</li>\n",
        "    <br>\n",
        "    <li> Sklearn does few more tweaks in the implementation of its version of TFIDF vectorizer, so to replicate the exact results you would need to add following things to your custom implementation of tfidf vectorizer:\n",
        "       <ol>\n",
        "        <li> Sklearn has its vocabulary generated from idf sroted in alphabetical order</li>\n",
        "        <li> Sklearn formula of idf is different from the standard textbook formula. Here the constant <strong>\"1\"</strong> is added to the numerator and denominator of the idf as if an extra document was seen containing every term in the collection exactly once, which prevents zero divisions.\n",
        "            \n",
        " $IDF(t) = 1+\\log_{e}\\frac{1\\text{ }+\\text{ Total  number of documents in collection}} {1+\\text{Number of documents with term t in it}}.$\n",
        "        </li>\n",
        "        <li> Sklearn applies L2-normalization on its output matrix.</li>\n",
        "        <li> The final output of sklearn tfidf vectorizer is a sparse matrix.</li>\n",
        "    </ol>\n",
        "    <br>\n",
        "    <li>Steps to approach this task:\n",
        "    <ol>\n",
        "        <li> You would have to write both fit and transform methods for your custom implementation of tfidf vectorizer.</li>\n",
        "        <li> Print out the alphabetically sorted voacb after you fit your data and check if its the same as that of the feature names from sklearn tfidf vectorizer. </li>\n",
        "        <li> Print out the idf values from your implementation and check if its the same as that of sklearns tfidf vectorizer idf values. </li>\n",
        "        <li> Once you get your voacb and idf values to be same as that of sklearns implementation of tfidf vectorizer, proceed to the below steps. </li>\n",
        "        <li> Make sure the output of your implementation is a sparse matrix. Before generating the final output, you need to normalize your sparse matrix using L2 normalization. You can refer to this link https://scikit-learn.org/stable/modules/generated/sklearn.preprocessing.normalize.html </li>\n",
        "        <li> After completing the above steps, print the output of your custom implementation and compare it with sklearns implementation of tfidf vectorizer.</li>\n",
        "        <li> To check the output of a single document in your collection of documents,  you can convert the sparse matrix related only to that document into dense matrix and print it.</li>\n",
        "        </ol>\n",
        "    </li>\n",
        "    <br>\n",
        "   </ul>\n",
        "\n",
        "  <p> <font color=\"#e60000\"><strong>Note-1: </strong></font> All the necessary outputs of sklearns tfidf vectorizer have been provided as reference in this notebook, you can compare your outputs as mentioned in the above steps, with these outputs.<br>\n",
        "   <font color=\"#e60000\"><strong>Note-2: </strong></font> The output of your custom implementation and that of sklearns implementation would match only with the collection of document strings provided to you as reference in this notebook. It would not match for strings that contain capital letters or punctuations, etc, because sklearn version of tfidf vectorizer deals with such strings in a different way. To know further details about how sklearn tfidf vectorizer works with such string, you can always refer to its official documentation.<br>\n",
        "   <font color=\"#e60000\"><strong>Note-3: </strong></font> During this task, it would be helpful for you to debug the code you write with print statements wherever necessary. But when you are finally submitting the assignment, make sure your code is readable and try not to print things which are not part of this task.\n",
        "    </p>"
      ]
    },
    {
      "cell_type": "markdown",
      "metadata": {
        "id": "OnV82tg1xLi0"
      },
      "source": [
        "### Corpus"
      ]
    },
    {
      "cell_type": "code",
      "metadata": {
        "id": "bUsYm9wjxLi1"
      },
      "source": [
        "## SkLearn# Collection of string documents\n",
        "\n",
        "corpus = [\n",
        "     'this is the first document',\n",
        "     'this document is the second document',\n",
        "     'and this is the third one',\n",
        "     'is this the first document',\n",
        "]"
      ],
      "execution_count": 1,
      "outputs": []
    },
    {
      "cell_type": "markdown",
      "metadata": {
        "id": "eLwmFZfKxLi4"
      },
      "source": [
        "### SkLearn Implementation"
      ]
    },
    {
      "cell_type": "code",
      "metadata": {
        "id": "Np4dfQOkxLi4"
      },
      "source": [
        "from sklearn.feature_extraction.text import TfidfVectorizer\n",
        "vectorizer = TfidfVectorizer()\n",
        "vectorizer.fit(corpus)\n",
        "skl_output = vectorizer.transform(corpus)"
      ],
      "execution_count": 2,
      "outputs": []
    },
    {
      "cell_type": "code",
      "metadata": {
        "id": "-7Om8YpYxLi6",
        "colab": {
          "base_uri": "https://localhost:8080/"
        },
        "outputId": "ac9ae152-f5ac-437d-845a-265b2dae4143"
      },
      "source": [
        "# sklearn feature names, they are sorted in alphabetic order by default.\n",
        "\n",
        "print(vectorizer.get_feature_names())"
      ],
      "execution_count": 3,
      "outputs": [
        {
          "output_type": "stream",
          "text": [
            "['and', 'document', 'first', 'is', 'one', 'second', 'the', 'third', 'this']\n"
          ],
          "name": "stdout"
        }
      ]
    },
    {
      "cell_type": "code",
      "metadata": {
        "id": "dTKplK96xLi-",
        "colab": {
          "base_uri": "https://localhost:8080/"
        },
        "outputId": "cf9a2456-ab91-46b2-8331-0ee75e8d0c49"
      },
      "source": [
        "# Here we will print the sklearn tfidf vectorizer idf values after applying the fit method\n",
        "# After using the fit function on the corpus the vocab has 9 words in it, and each has its idf value.\n",
        "\n",
        "print(vectorizer.idf_)"
      ],
      "execution_count": 4,
      "outputs": [
        {
          "output_type": "stream",
          "text": [
            "[1.91629073 1.22314355 1.51082562 1.         1.91629073 1.91629073\n",
            " 1.         1.91629073 1.        ]\n"
          ],
          "name": "stdout"
        }
      ]
    },
    {
      "cell_type": "code",
      "metadata": {
        "id": "-CTiWHygxLjA",
        "colab": {
          "base_uri": "https://localhost:8080/"
        },
        "outputId": "035714d0-f30d-4fa9-fc3a-e06aa65b4ef4"
      },
      "source": [
        "# shape of sklearn tfidf vectorizer output after applying transform method.\n",
        "\n",
        "skl_output.shape"
      ],
      "execution_count": 5,
      "outputs": [
        {
          "output_type": "execute_result",
          "data": {
            "text/plain": [
              "(4, 9)"
            ]
          },
          "metadata": {
            "tags": []
          },
          "execution_count": 5
        }
      ]
    },
    {
      "cell_type": "code",
      "metadata": {
        "id": "bDKEpbA-xLjD",
        "colab": {
          "base_uri": "https://localhost:8080/"
        },
        "outputId": "c4e424e5-66aa-4642-9ef3-1edd19243730"
      },
      "source": [
        "# sklearn tfidf values for first line of the above corpus.\n",
        "# Here the output is a sparse matrix\n",
        "\n",
        "print(skl_output[0])"
      ],
      "execution_count": 6,
      "outputs": [
        {
          "output_type": "stream",
          "text": [
            "  (0, 8)\t0.38408524091481483\n",
            "  (0, 6)\t0.38408524091481483\n",
            "  (0, 3)\t0.38408524091481483\n",
            "  (0, 2)\t0.5802858236844359\n",
            "  (0, 1)\t0.46979138557992045\n"
          ],
          "name": "stdout"
        }
      ]
    },
    {
      "cell_type": "code",
      "metadata": {
        "id": "3QWo34hexLjF",
        "colab": {
          "base_uri": "https://localhost:8080/"
        },
        "outputId": "3c46e9d1-2db0-4dc3-a22f-3ad498d7f624"
      },
      "source": [
        "# sklearn tfidf values for first line of the above corpus.\n",
        "# To understand the output better, here we are converting the sparse output matrix to dense matrix and printing it.\n",
        "# Notice that this output is normalized using L2 normalization. sklearn does this by default.\n",
        "\n",
        "print(skl_output[0].toarray())"
      ],
      "execution_count": 7,
      "outputs": [
        {
          "output_type": "stream",
          "text": [
            "[[0.         0.46979139 0.58028582 0.38408524 0.         0.\n",
            "  0.38408524 0.         0.38408524]]\n"
          ],
          "name": "stdout"
        }
      ]
    },
    {
      "cell_type": "markdown",
      "metadata": {
        "id": "qfIwx5LzxLjI"
      },
      "source": [
        "### Your custom implementation"
      ]
    },
    {
      "cell_type": "code",
      "metadata": {
        "id": "HjuCcJwXxLjJ"
      },
      "source": [
        "# Write your code here.\n",
        "# Make sure its well documented and readble with appropriate comments.\n",
        "# Compare your results with the above sklearn tfidf vectorizer\n",
        "# You are not supposed to use any other library apart from the ones given below\n",
        "\n",
        "from collections import Counter\n",
        "from tqdm import tqdm\n",
        "from scipy.sparse import csr_matrix\n",
        "import math\n",
        "import operator\n",
        "from sklearn.preprocessing import normalize\n",
        "import numpy"
      ],
      "execution_count": 8,
      "outputs": []
    },
    {
      "cell_type": "code",
      "metadata": {
        "id": "mHlcrvIrQKmb",
        "colab": {
          "base_uri": "https://localhost:8080/"
        },
        "outputId": "8ed3c715-800b-4d69-e44c-44b1d2aa770b"
      },
      "source": [
        "def fit(data):\r\n",
        "    if isinstance(data, (list, tuple)):\r\n",
        "        unique_words = []\r\n",
        "        for sentence in data:\r\n",
        "            for word in sentence.split():\r\n",
        "                if len(word) > 1 and word not in unique_words:\r\n",
        "                    if not word.isalpha() and not '-' in word: # if any word is of the form \"word,\", \"word.\", \"word!\" etc\r\n",
        "                        for index, char in enumerate(reversed(word)):\r\n",
        "                            if char.isalpha():\r\n",
        "                                unique_words.append(word[:len(word) - index])\r\n",
        "                                break\r\n",
        "                    else:\r\n",
        "                        unique_words.append(word)\r\n",
        "        unique_words = sorted(unique_words)\r\n",
        "        vocab = { word : index for index, word in enumerate(unique_words) }\r\n",
        "        return vocab\r\n",
        "    else:\r\n",
        "        print(\"Please provide a list or tuple as the function argument\")\r\n",
        "\r\n",
        "def transform(data, vocab):\r\n",
        "    if isinstance(data, (list, tuple)) and isinstance(vocab, (dict)):\r\n",
        "        # total no. of docs in the corpus\r\n",
        "        total_no_of_docs = len(data)\r\n",
        "        total_no_of_docs_incremented = total_no_of_docs + 1\r\n",
        "        # dict which stores the no. of docs with the term present in it\r\n",
        "        docs_with_term = { term: 0 for term in vocab.keys() }\r\n",
        "        for term in docs_with_term.keys():\r\n",
        "            for sentence in data:\r\n",
        "                if term in sentence:\r\n",
        "                    docs_with_term[term] += 1\r\n",
        "        \r\n",
        "        no_of_words_in_vocab = len(vocab)\r\n",
        "        idf = numpy.ones(no_of_words_in_vocab) + \\\r\n",
        "        numpy.log([(total_no_of_docs_incremented) / (1 + term_count) \\\r\n",
        "                   for term_count in docs_with_term.values()])\r\n",
        "        print(\"idf :\", idf)\r\n",
        "\r\n",
        "        row_indices = []\r\n",
        "        column_indices = []\r\n",
        "        values = []\r\n",
        "        for index, sentence in enumerate(tqdm(data)):\r\n",
        "            terms = sentence.split()\r\n",
        "            no_of_terms_in_sentence = len(terms)\r\n",
        "            for term in terms:\r\n",
        "                if term in vocab.keys():\r\n",
        "                    tf = terms.count(term) / no_of_terms_in_sentence\r\n",
        "                    row_indices.append(index)\r\n",
        "                    column_indices.append(vocab[term])\r\n",
        "                    values.append(tf * idf[column_indices[-1]])\r\n",
        "        \r\n",
        "        tf_idf = csr_matrix((values, (row_indices, column_indices)),\\\r\n",
        "                          shape=(total_no_of_docs, no_of_words_in_vocab)) \r\n",
        "        return normalize(tf_idf)   \r\n",
        "\r\n",
        "    else:\r\n",
        "        print(\"Please provide a list or tuple as as data arg and dict as vocab arg for transform(data, vocab)\")\r\n",
        "vocab = fit(corpus)\r\n",
        "print(\"vocab :\", vocab)\r\n",
        "ret = transform(corpus, vocab)\r\n",
        "print(ret[0].toarray(), ret.shape)\r\n"
      ],
      "execution_count": 9,
      "outputs": [
        {
          "output_type": "stream",
          "text": [
            "100%|██████████| 4/4 [00:00<00:00, 2543.93it/s]"
          ],
          "name": "stderr"
        },
        {
          "output_type": "stream",
          "text": [
            "vocab : {'and': 0, 'document': 1, 'first': 2, 'is': 3, 'one': 4, 'second': 5, 'the': 6, 'third': 7, 'this': 8}\n",
            "idf : [1.91629073 1.22314355 1.51082562 1.         1.91629073 1.91629073\n",
            " 1.         1.91629073 1.        ]\n",
            "[[0.         0.46979139 0.58028582 0.38408524 0.         0.\n",
            "  0.38408524 0.         0.38408524]] (4, 9)\n"
          ],
          "name": "stdout"
        },
        {
          "output_type": "stream",
          "text": [
            "\n"
          ],
          "name": "stderr"
        }
      ]
    },
    {
      "cell_type": "markdown",
      "metadata": {
        "id": "MMxBmVZExLjK"
      },
      "source": [
        "## Task-2"
      ]
    },
    {
      "cell_type": "markdown",
      "metadata": {
        "id": "51j_OtqAxLjL"
      },
      "source": [
        "<font face='georgia'>\n",
        "    <h4><strong>2. Implement max features functionality:</strong></h4>\n",
        "\n",
        "<ul>\n",
        "    <li> As a part of this task you have to modify your fit and transform functions so that your vocab will contain only 50 terms with top idf scores.</li>\n",
        "    <br>\n",
        "    <li>This task is similar to your previous task, just that here your vocabulary is limited to only top 50 features names based on their idf values. Basically your output will have exactly 50 columns and the number of rows will depend on the number of documents you have in your corpus.</li>\n",
        "    <br>\n",
        "    <li>Here you will be give a pickle file, with file name <strong>cleaned_strings</strong>. You would have to load the corpus from this file and use it as input to your tfidf vectorizer.</li>\n",
        "    <br>\n",
        "    <li>Steps to approach this task:\n",
        "    <ol>\n",
        "        <li> You would have to write both fit and transform methods for your custom implementation of tfidf vectorizer, just like in the previous task. Additionally, here you have to limit the number of features generated to 50 as described above.</li>\n",
        "        <li> Now sort your vocab based in descending order of idf values and print out the words in the sorted voacb after you fit your data. Here you should be getting only 50 terms in your vocab. And make sure to print idf values for each term in your vocab. </li>\n",
        "        <li> Make sure the output of your implementation is a sparse matrix. Before generating the final output, you need to normalize your sparse matrix using L2 normalization. You can refer to this link https://scikit-learn.org/stable/modules/generated/sklearn.preprocessing.normalize.html </li>\n",
        "        <li> Now check the output of a single document in your collection of documents,  you can convert the sparse matrix related only to that document into dense matrix and print it. And this dense matrix should contain 1 row and 50 columns. </li>\n",
        "        </ol>\n",
        "    </li>\n",
        "    <br>\n",
        "   </ul>"
      ]
    },
    {
      "cell_type": "code",
      "metadata": {
        "id": "NHxPLlwNxLjL",
        "colab": {
          "base_uri": "https://localhost:8080/"
        },
        "outputId": "e89b08a1-361d-49be-caf7-1c439fd633b6"
      },
      "source": [
        "# Below is the code to load the cleaned_strings pickle file provided\n",
        "# Here corpus is of list type\n",
        "\n",
        "import pickle\n",
        "with open('cleaned_strings', 'rb') as f:\n",
        "    corpus = pickle.load(f)\n",
        "    \n",
        "# printing the length of the corpus loaded\n",
        "print(\"Number of documents in corpus = \",len(corpus))"
      ],
      "execution_count": 10,
      "outputs": [
        {
          "output_type": "stream",
          "text": [
            "Number of documents in corpus =  746\n"
          ],
          "name": "stdout"
        }
      ]
    },
    {
      "cell_type": "code",
      "metadata": {
        "id": "ZULfoOIdxLjQ",
        "colab": {
          "base_uri": "https://localhost:8080/"
        },
        "outputId": "77d776c9-0f70-4181-e770-ea27db86bcc6"
      },
      "source": [
        "#  This fn finds the appropriate place to insert idf in the list of top 50 idf's\n",
        "def bisect(a, start, end, elem):\n",
        "    if not a:\n",
        "        return 0\n",
        "    if a[start] <= elem:\n",
        "        return 0\n",
        "    if a[end] >= elem:\n",
        "        return -1\n",
        "    while start < end:\n",
        "        if end - start in (0, 1):\n",
        "            return end\n",
        "        mid = ( start + end ) // 2\n",
        "        if a[mid] < elem:\n",
        "            end = mid\n",
        "        else:\n",
        "            start = mid\n",
        "\n",
        "\n",
        "idf = []\n",
        "\n",
        "def fit(data):\n",
        "    if isinstance(data, (list, tuple)):\n",
        "        unique_words = []\n",
        "        for sentence in data:\n",
        "            for word in sentence.split():\n",
        "                if len(word) > 1 and word not in unique_words:\n",
        "                    # if any word is of the form \"word,\", \"word.\", \"word!\" etc\n",
        "                    if not word.isalpha() and not '-' in word:\n",
        "                        for index, char in enumerate(reversed(word)):\n",
        "                            if char.isalpha():\n",
        "                                unique_words.append(word[:len(word) - index])\n",
        "                                break\n",
        "                    else:\n",
        "                        unique_words.append(word)\n",
        "\n",
        "        top_terms = []\n",
        "        total_no_of_docs = len(data)\n",
        "        global idf\n",
        "        for term in unique_words:\n",
        "            term_count = 0\n",
        "            for sentence in data:\n",
        "                if term in sentence:\n",
        "                    term_count += 1\n",
        "            value = 1 + numpy.log((total_no_of_docs + 1) / (term_count + 1))\n",
        "            start = 0\n",
        "            end = len(idf) - 1 \n",
        "            pos = bisect(idf, start, end, value)\n",
        "            if pos != -1:\n",
        "                idf.insert(pos, value)\n",
        "                top_terms.insert(pos, term)\n",
        "                # Remove last term if count > 50\n",
        "                if len(idf) > 50:\n",
        "                    idf = idf[0:50]\n",
        "                    top_terms = top_terms[0:50]\n",
        "\n",
        "        return { word : index for index, word in enumerate(top_terms) }\n",
        "    else:\n",
        "        print(\"Please provide a list or tuple as the function argument\")\n",
        "\n",
        "def transform(data, vocab):\n",
        "    if isinstance(data, (list, tuple)) and isinstance(vocab, (dict)):\n",
        "        row_indices = []\n",
        "        column_indices = []\n",
        "        values = []\n",
        "        total_no_of_docs = len(data)\n",
        "        no_of_words_in_vocab = len(vocab)\n",
        "        print(\"idf :\", idf)\n",
        "        for index, sentence in enumerate(tqdm(data)):\n",
        "            terms = sentence.split()\n",
        "            no_of_terms_in_sentence = len(terms)\n",
        "            for term in terms:\n",
        "                if term in vocab.keys():\n",
        "                    tf = terms.count(term) / no_of_terms_in_sentence\n",
        "                    row_indices.append(index)\n",
        "                    column_indices.append(vocab[term])\n",
        "                    values.append(tf * idf[column_indices[-1]])\n",
        "        \n",
        "        tf_idf = csr_matrix((values, (row_indices, column_indices)),\\\n",
        "                          shape=(total_no_of_docs, no_of_words_in_vocab)) \n",
        "        return normalize(tf_idf)   \n",
        "\n",
        "    else:\n",
        "        print(\"Please provide a list or tuple as as data arg and dict as vocab arg for transform(data, vocab)\")\n",
        "\n",
        "vocab = fit(corpus)\n",
        "print(\"vocab\", vocab)\n",
        "ret = transform(corpus, vocab)\n",
        "print(ret[0], ret.shape)\n"
      ],
      "execution_count": 13,
      "outputs": [
        {
          "output_type": "stream",
          "text": [
            "100%|██████████| 746/746 [00:00<00:00, 216791.44it/s]"
          ],
          "name": "stderr"
        },
        {
          "output_type": "stream",
          "text": [
            "vocab {'exceptionally': 0, 'regrettable': 1, 'virtue': 2, 'clothes': 3, 'jessice': 4, 'faster': 5, 'bonding': 6, 'smoothly': 7, 'flowed': 8, 'anyway': 9, 'hollander': 10, 'darren': 11, 'flaming': 12, 'trysts': 13, 'houses': 14, 'clients': 15, 'salesman': 16, 'estate': 17, 'gay': 18, 'obsessed': 19, 'sex': 20, 'weaving': 21, 'hugo': 22, 'confidence': 23, 'cutie': 24, 'sad': 25, 'favorite': 26, 'judith': 27, 'march': 28, 'sundays': 29, 'babysitting': 30, 'spoiled': 31, 'fest': 32, 'bonuses': 33, 'added': 34, 'frost': 35, 'mighty': 36, 'taken': 37, 'vessel': 38, 'worthless': 39, 'choked': 40, 'everywhere': 41, 'armageddon': 42, 'impact': 43, 'wave': 44, 'wants': 45, 'fanciful': 46, 'colorful': 47, 'drawings': 48, 'pencil': 49}\n",
            "idf : [6.922918004572872, 6.922918004572872, 6.922918004572872, 6.922918004572872, 6.922918004572872, 6.922918004572872, 6.922918004572872, 6.922918004572872, 6.922918004572872, 6.922918004572872, 6.922918004572872, 6.922918004572872, 6.922918004572872, 6.922918004572872, 6.922918004572872, 6.922918004572872, 6.922918004572872, 6.922918004572872, 6.922918004572872, 6.922918004572872, 6.922918004572872, 6.922918004572872, 6.922918004572872, 6.922918004572872, 6.922918004572872, 6.922918004572872, 6.922918004572872, 6.922918004572872, 6.922918004572872, 6.922918004572872, 6.922918004572872, 6.922918004572872, 6.922918004572872, 6.922918004572872, 6.922918004572872, 6.922918004572872, 6.922918004572872, 6.922918004572872, 6.922918004572872, 6.922918004572872, 6.922918004572872, 6.922918004572872, 6.922918004572872, 6.922918004572872, 6.922918004572872, 6.922918004572872, 6.922918004572872, 6.922918004572872, 6.922918004572872, 6.922918004572872]\n",
            " (746, 50)\n"
          ],
          "name": "stdout"
        },
        {
          "output_type": "stream",
          "text": [
            "\n"
          ],
          "name": "stderr"
        }
      ]
    }
  ]
}