{
  "nbformat": 4,
  "nbformat_minor": 0,
  "metadata": {
    "colab": {
      "name": "Untitled0.ipynb",
      "provenance": [],
      "collapsed_sections": [],
      "authorship_tag": "ABX9TyOJI0qGiuhVbx4VFjjJ7voQ",
      "include_colab_link": true
    },
    "kernelspec": {
      "name": "python3",
      "display_name": "Python 3"
    }
  },
  "cells": [
    {
      "cell_type": "markdown",
      "metadata": {
        "id": "view-in-github",
        "colab_type": "text"
      },
      "source": [
        "<a href=\"https://colab.research.google.com/github/abraham-john-paul/AppliedAICourse/blob/main/PythonOptionalAssignment.ipynb\" target=\"_parent\"><img src=\"https://colab.research.google.com/assets/colab-badge.svg\" alt=\"Open In Colab\"/></a>"
      ]
    },
    {
      "cell_type": "code",
      "metadata": {
        "id": "NbZDX1UsHhFL",
        "outputId": "82fc2805-0eff-4e7d-f352-d8061df9922f",
        "colab": {
          "base_uri": "https://localhost:8080/",
          "height": 235
        }
      },
      "source": [
        "n = int(input('enter a no. : '))\n",
        "m = int(input(f'enter upto which no, {n} should be multiplied : '))\n",
        "\n",
        "multiplication_table = (i for i in range(1, m + 1))\n",
        "\n",
        "for i in multiplication_table:\n",
        "  print(f'{n} x {i} = {n * i}')"
      ],
      "execution_count": 3,
      "outputs": [
        {
          "output_type": "stream",
          "text": [
            "enter a no. : 99\n",
            "enter upto which no, 99 should be multiplied : 10\n",
            "99 x 1 = 99\n",
            "99 x 2 = 198\n",
            "99 x 3 = 297\n",
            "99 x 4 = 396\n",
            "99 x 5 = 495\n",
            "99 x 6 = 594\n",
            "99 x 7 = 693\n",
            "99 x 8 = 792\n",
            "99 x 9 = 891\n",
            "99 x 10 = 990\n"
          ],
          "name": "stdout"
        }
      ]
    },
    {
      "cell_type": "code",
      "metadata": {
        "id": "85pZN_ABRNef",
        "outputId": "0777063c-edec-4e77-d892-b4a1eff31cef",
        "colab": {
          "base_uri": "https://localhost:8080/",
          "height": 653
        }
      },
      "source": [
        "def isprime(n): \n",
        "    if n <= 1:\n",
        "        return False\n",
        "    for i in range(2, n//2 + 1):\n",
        "        if n % i == 0:\n",
        "            return False\n",
        "    return True\n",
        "\n",
        "prime_nos_till_1000 = (x for x in range(2, 1000) if isprime(x))\n",
        "\n",
        "prev = prime_nos_till_1000.__next__()\n",
        "for i in prime_nos_till_1000:\n",
        "    if i - prev == 2:\n",
        "        print(f'({prev}, {i})')\n",
        "    \n",
        "    prev = i"
      ],
      "execution_count": 9,
      "outputs": [
        {
          "output_type": "stream",
          "text": [
            "(3, 5)\n",
            "(5, 7)\n",
            "(11, 13)\n",
            "(17, 19)\n",
            "(29, 31)\n",
            "(41, 43)\n",
            "(59, 61)\n",
            "(71, 73)\n",
            "(101, 103)\n",
            "(107, 109)\n",
            "(137, 139)\n",
            "(149, 151)\n",
            "(179, 181)\n",
            "(191, 193)\n",
            "(197, 199)\n",
            "(227, 229)\n",
            "(239, 241)\n",
            "(269, 271)\n",
            "(281, 283)\n",
            "(311, 313)\n",
            "(347, 349)\n",
            "(419, 421)\n",
            "(431, 433)\n",
            "(461, 463)\n",
            "(521, 523)\n",
            "(569, 571)\n",
            "(599, 601)\n",
            "(617, 619)\n",
            "(641, 643)\n",
            "(659, 661)\n",
            "(809, 811)\n",
            "(821, 823)\n",
            "(827, 829)\n",
            "(857, 859)\n",
            "(881, 883)\n"
          ],
          "name": "stdout"
        }
      ]
    },
    {
      "cell_type": "code",
      "metadata": {
        "id": "s2mpHUmRWAJ4",
        "outputId": "9d0d1fb3-735a-45dd-bd04-a6154c4ad86c",
        "colab": {
          "base_uri": "https://localhost:8080/",
          "height": 53
        }
      },
      "source": [
        "def isprime(n): \n",
        "    if n <= 1:\n",
        "        return False\n",
        "    for i in range(2, n//2 + 1):\n",
        "        if n % i == 0:\n",
        "            return False\n",
        "    return True\n",
        "\n",
        "n = int(input('enter a no. : '))\n",
        "\n",
        "prime_nos_till_N = (x for x in range(2, n//2 + 1) if isprime(x))\n",
        "\n",
        "print(f'prime factors of {n} are ', end=' ')\n",
        "prime_factors_of_n = []\n",
        "for i in prime_nos_till_N:\n",
        "    while not n % i:\n",
        "        prime_factors_of_n.append(i)\n",
        "        n = n // i\n",
        "\n",
        "print(*prime_factors_of_n, sep=\", \")"
      ],
      "execution_count": 19,
      "outputs": [
        {
          "output_type": "stream",
          "text": [
            "enter a no. : 56\n",
            "prime factors of 56 are  2, 2, 2, 7\n"
          ],
          "name": "stdout"
        }
      ]
    },
    {
      "cell_type": "code",
      "metadata": {
        "id": "GeEIDeK5YWVe",
        "outputId": "ce12805c-0e50-4b51-c89f-b58b987519c5",
        "colab": {
          "base_uri": "https://localhost:8080/",
          "height": 90
        }
      },
      "source": [
        "def factorial(n):\n",
        "    res = 1\n",
        "    for i in range(2, n + 1):\n",
        "        res *= i\n",
        "    return res\n",
        "\n",
        "def permutation(n, r):\n",
        "    r = (n - r) if r > n // 2 else r\n",
        "    res = n\n",
        "    for i in range(1, r):\n",
        "        res *= (n - i)  \n",
        "    return res\n",
        "\n",
        "def combination(n, r):\n",
        "    r = (n - r) if r > n // 2 else r\n",
        "    res = n\n",
        "    for i in range(1, r):\n",
        "        res *= (n - i)  \n",
        "    return res // factorial(r)\n",
        "\n",
        "n = int(input('enter the value of n : '))\n",
        "r = int(input('enter the value of r : '))\n",
        "if n >= r:\n",
        "    print(f'{n}P{r} = {permutation(n, r)}')\n",
        "    print(f'{n}C{r} = {combination(n, r)}')\n",
        "else:\n",
        "    print(f'n should be greater than or equal to r')"
      ],
      "execution_count": 34,
      "outputs": [
        {
          "output_type": "stream",
          "text": [
            "enter the value of n : 5\n",
            "enter the value of r : 5\n",
            "5P5 = 5\n",
            "5C5 = 5\n"
          ],
          "name": "stdout"
        }
      ]
    },
    {
      "cell_type": "code",
      "metadata": {
        "id": "ZaNeLVKafWym",
        "outputId": "f7fa7afe-6cc2-4281-bfa1-71a63f04eabd",
        "colab": {
          "base_uri": "https://localhost:8080/",
          "height": 72
        }
      },
      "source": [
        "def decimal_to_binary(n):\n",
        "    binary = ''\n",
        "    while n:\n",
        "        if n & 1:\n",
        "            binary += '1'\n",
        "        else:\n",
        "            binary += '0'\n",
        "        n = n >> 1\n",
        "    return ''.join(reversed(binary))\n",
        "\n",
        "n = int(input('enter a no. : '))\n",
        "print(f'binary of {n} is', '0b' + decimal_to_binary(n))\n",
        "print(f'binary of {n} is', bin(n))"
      ],
      "execution_count": 44,
      "outputs": [
        {
          "output_type": "stream",
          "text": [
            "enter a no. : 10\n",
            "binary of 10 is 0b1010\n",
            "binary of 10 is 0b1010\n"
          ],
          "name": "stdout"
        }
      ]
    },
    {
      "cell_type": "code",
      "metadata": {
        "id": "Ta0M36-Lhlg_",
        "outputId": "ebc073f8-028f-469d-ca1f-8ec9723eeae1",
        "colab": {
          "base_uri": "https://localhost:8080/",
          "height": 90
        }
      },
      "source": [
        "def cubesum(n):\n",
        "    res = 0 \n",
        "    while n:\n",
        "        last_digit = n % 10\n",
        "        res += last_digit ** 3\n",
        "        n //= 10\n",
        "    return res\n",
        "\n",
        "def isArmstrong(n):\n",
        "    return True if cubesum(n) == n else False\n",
        "\n",
        "def printArmstrong(n):\n",
        "    armstrong_nos = []\n",
        "    for i in range(1, n + 1):\n",
        "        if isArmstrong(i):\n",
        "            armstrong_nos.append(i)\n",
        "    if len(armstrong_nos):\n",
        "        print(f'armstrong no.s from 1 to {n} are', *armstrong_nos)\n",
        "    else:\n",
        "        print(f'There are no armstrong no.s from 1 to {n}...')\n",
        "\n",
        "n = int(input('enter a no. : '))\n",
        "\n",
        "print(f'cubesum({n}) is', cubesum(n))\n",
        "print(f'is {n} an armstrong no. ?', isArmstrong(n))\n",
        "printArmstrong(1000)"
      ],
      "execution_count": 65,
      "outputs": [
        {
          "output_type": "stream",
          "text": [
            "enter a no. : 153\n",
            "cubesum(153) is 153\n",
            "is 153 an armstrong no. ? True\n",
            "armstrong no.s from 1 to 1000 are 1 153 370 371 407\n"
          ],
          "name": "stdout"
        }
      ]
    },
    {
      "cell_type": "code",
      "metadata": {
        "id": "XM6si3JGl_A_",
        "outputId": "483271cb-2281-4a4e-a6de-d0e131bbd294",
        "colab": {
          "base_uri": "https://localhost:8080/",
          "height": 53
        }
      },
      "source": [
        "def prodDigits(n):\n",
        "    res = 1 \n",
        "    while n:\n",
        "        last_digit = n % 10\n",
        "        res *= last_digit\n",
        "        n //= 10\n",
        "    return res\n",
        "\n",
        "n = int(input('enter a no. : '))\n",
        "print(f'product of digits of {n} is', prodDigits(n))"
      ],
      "execution_count": 66,
      "outputs": [
        {
          "output_type": "stream",
          "text": [
            "enter a no. : 123\n",
            "product of digits of 123 is 6\n"
          ],
          "name": "stdout"
        }
      ]
    }
  ]
}