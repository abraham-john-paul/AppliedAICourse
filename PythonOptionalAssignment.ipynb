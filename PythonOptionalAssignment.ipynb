{
  "nbformat": 4,
  "nbformat_minor": 0,
  "metadata": {
    "colab": {
      "name": "PythonOptionalAssignment.ipynb",
      "provenance": [],
      "collapsed_sections": [],
      "authorship_tag": "ABX9TyP41KY+PaiWHE6+Y0XGJIo5",
      "include_colab_link": true
    },
    "kernelspec": {
      "name": "python3",
      "display_name": "Python 3"
    }
  },
  "cells": [
    {
      "cell_type": "markdown",
      "metadata": {
        "id": "view-in-github",
        "colab_type": "text"
      },
      "source": [
        "<a href=\"https://colab.research.google.com/github/abraham-john-paul/AppliedAICourse/blob/main/PythonOptionalAssignment.ipynb\" target=\"_parent\"><img src=\"https://colab.research.google.com/assets/colab-badge.svg\" alt=\"Open In Colab\"/></a>"
      ]
    },
    {
      "cell_type": "code",
      "metadata": {
        "id": "NbZDX1UsHhFL",
        "outputId": "82fc2805-0eff-4e7d-f352-d8061df9922f",
        "colab": {
          "base_uri": "https://localhost:8080/",
          "height": 235
        }
      },
      "source": [
        "n = int(input('enter a no. : '))\n",
        "m = int(input(f'enter upto which no, {n} should be multiplied : '))\n",
        "\n",
        "multiplication_table = (i for i in range(1, m + 1))\n",
        "\n",
        "for i in multiplication_table:\n",
        "  print(f'{n} x {i} = {n * i}')"
      ],
      "execution_count": null,
      "outputs": [
        {
          "output_type": "stream",
          "text": [
            "enter a no. : 99\n",
            "enter upto which no, 99 should be multiplied : 10\n",
            "99 x 1 = 99\n",
            "99 x 2 = 198\n",
            "99 x 3 = 297\n",
            "99 x 4 = 396\n",
            "99 x 5 = 495\n",
            "99 x 6 = 594\n",
            "99 x 7 = 693\n",
            "99 x 8 = 792\n",
            "99 x 9 = 891\n",
            "99 x 10 = 990\n"
          ],
          "name": "stdout"
        }
      ]
    },
    {
      "cell_type": "code",
      "metadata": {
        "id": "85pZN_ABRNef",
        "outputId": "0777063c-edec-4e77-d892-b4a1eff31cef",
        "colab": {
          "base_uri": "https://localhost:8080/",
          "height": 653
        }
      },
      "source": [
        "def isprime(n): \n",
        "    if n <= 1:\n",
        "        return False\n",
        "    for i in range(2, n//2 + 1):\n",
        "        if n % i == 0:\n",
        "            return False\n",
        "    return True\n",
        "\n",
        "prime_nos_till_1000 = (x for x in range(2, 1000) if isprime(x))\n",
        "\n",
        "prev = prime_nos_till_1000.__next__()\n",
        "for i in prime_nos_till_1000:\n",
        "    if i - prev == 2:\n",
        "        print(f'({prev}, {i})')\n",
        "    \n",
        "    prev = i"
      ],
      "execution_count": null,
      "outputs": [
        {
          "output_type": "stream",
          "text": [
            "(3, 5)\n",
            "(5, 7)\n",
            "(11, 13)\n",
            "(17, 19)\n",
            "(29, 31)\n",
            "(41, 43)\n",
            "(59, 61)\n",
            "(71, 73)\n",
            "(101, 103)\n",
            "(107, 109)\n",
            "(137, 139)\n",
            "(149, 151)\n",
            "(179, 181)\n",
            "(191, 193)\n",
            "(197, 199)\n",
            "(227, 229)\n",
            "(239, 241)\n",
            "(269, 271)\n",
            "(281, 283)\n",
            "(311, 313)\n",
            "(347, 349)\n",
            "(419, 421)\n",
            "(431, 433)\n",
            "(461, 463)\n",
            "(521, 523)\n",
            "(569, 571)\n",
            "(599, 601)\n",
            "(617, 619)\n",
            "(641, 643)\n",
            "(659, 661)\n",
            "(809, 811)\n",
            "(821, 823)\n",
            "(827, 829)\n",
            "(857, 859)\n",
            "(881, 883)\n"
          ],
          "name": "stdout"
        }
      ]
    },
    {
      "cell_type": "code",
      "metadata": {
        "id": "s2mpHUmRWAJ4",
        "outputId": "9d0d1fb3-735a-45dd-bd04-a6154c4ad86c",
        "colab": {
          "base_uri": "https://localhost:8080/",
          "height": 53
        }
      },
      "source": [
        "def isprime(n): \n",
        "    if n <= 1:\n",
        "        return False\n",
        "    for i in range(2, n//2 + 1):\n",
        "        if n % i == 0:\n",
        "            return False\n",
        "    return True\n",
        "\n",
        "n = int(input('enter a no. : '))\n",
        "\n",
        "prime_nos_till_N = (x for x in range(2, n//2 + 1) if isprime(x))\n",
        "\n",
        "print(f'prime factors of {n} are ', end=' ')\n",
        "prime_factors_of_n = []\n",
        "for i in prime_nos_till_N:\n",
        "    while not n % i:\n",
        "        prime_factors_of_n.append(i)\n",
        "        n = n // i\n",
        "\n",
        "print(*prime_factors_of_n, sep=\", \")"
      ],
      "execution_count": null,
      "outputs": [
        {
          "output_type": "stream",
          "text": [
            "enter a no. : 56\n",
            "prime factors of 56 are  2, 2, 2, 7\n"
          ],
          "name": "stdout"
        }
      ]
    },
    {
      "cell_type": "code",
      "metadata": {
        "id": "GeEIDeK5YWVe",
        "outputId": "ce12805c-0e50-4b51-c89f-b58b987519c5",
        "colab": {
          "base_uri": "https://localhost:8080/",
          "height": 90
        }
      },
      "source": [
        "def factorial(n):\n",
        "    res = 1\n",
        "    for i in range(2, n + 1):\n",
        "        res *= i\n",
        "    return res\n",
        "\n",
        "def permutation(n, r):\n",
        "    r = (n - r) if r > n // 2 else r\n",
        "    res = n\n",
        "    for i in range(1, r):\n",
        "        res *= (n - i)  \n",
        "    return res\n",
        "\n",
        "def combination(n, r):\n",
        "    r = (n - r) if r > n // 2 else r\n",
        "    res = n\n",
        "    for i in range(1, r):\n",
        "        res *= (n - i)  \n",
        "    return res // factorial(r)\n",
        "\n",
        "n = int(input('enter the value of n : '))\n",
        "r = int(input('enter the value of r : '))\n",
        "if n >= r:\n",
        "    print(f'{n}P{r} = {permutation(n, r)}')\n",
        "    print(f'{n}C{r} = {combination(n, r)}')\n",
        "else:\n",
        "    print(f'n should be greater than or equal to r')"
      ],
      "execution_count": null,
      "outputs": [
        {
          "output_type": "stream",
          "text": [
            "enter the value of n : 5\n",
            "enter the value of r : 5\n",
            "5P5 = 5\n",
            "5C5 = 5\n"
          ],
          "name": "stdout"
        }
      ]
    },
    {
      "cell_type": "code",
      "metadata": {
        "id": "ZaNeLVKafWym",
        "outputId": "1c2162a2-adbe-4ed4-8002-83a9a89bc248",
        "colab": {
          "base_uri": "https://localhost:8080/",
          "height": 72
        }
      },
      "source": [
        "def decimal_to_binary(n):\n",
        "    binary = ''\n",
        "    while n:\n",
        "        if n & 1:\n",
        "            binary += '1'\n",
        "        else:\n",
        "            binary += '0'\n",
        "        n = n >> 1\n",
        "    return ''.join(reversed(binary))\n",
        "\n",
        "n = int(input('enter a no. : '))\n",
        "print(f'binary of {n} is', '0b' + decimal_to_binary(n))\n",
        "print(f'binary of {n} is', bin(n))"
      ],
      "execution_count": 50,
      "outputs": [
        {
          "output_type": "stream",
          "text": [
            "enter a no. : 100\n",
            "binary of 100 is 0b1100100\n",
            "binary of 100 is 0b1100100\n"
          ],
          "name": "stdout"
        }
      ]
    },
    {
      "cell_type": "code",
      "metadata": {
        "id": "Ta0M36-Lhlg_",
        "outputId": "ebc073f8-028f-469d-ca1f-8ec9723eeae1",
        "colab": {
          "base_uri": "https://localhost:8080/",
          "height": 90
        }
      },
      "source": [
        "def cubesum(n):\n",
        "    res = 0 \n",
        "    while n:\n",
        "        last_digit = n % 10\n",
        "        res += last_digit ** 3\n",
        "        n //= 10\n",
        "    return res\n",
        "\n",
        "def isArmstrong(n):\n",
        "    return True if cubesum(n) == n else False\n",
        "\n",
        "def printArmstrong(n):\n",
        "    armstrong_nos = []\n",
        "    for i in range(1, n + 1):\n",
        "        if isArmstrong(i):\n",
        "            armstrong_nos.append(i)\n",
        "    if len(armstrong_nos):\n",
        "        print(f'armstrong no.s from 1 to {n} are', *armstrong_nos)\n",
        "    else:\n",
        "        print(f'There are no armstrong no.s from 1 to {n}...')\n",
        "\n",
        "n = int(input('enter a no. : '))\n",
        "\n",
        "print(f'cubesum({n}) is', cubesum(n))\n",
        "print(f'is {n} an armstrong no. ?', isArmstrong(n))\n",
        "printArmstrong(1000)"
      ],
      "execution_count": null,
      "outputs": [
        {
          "output_type": "stream",
          "text": [
            "enter a no. : 153\n",
            "cubesum(153) is 153\n",
            "is 153 an armstrong no. ? True\n",
            "armstrong no.s from 1 to 1000 are 1 153 370 371 407\n"
          ],
          "name": "stdout"
        }
      ]
    },
    {
      "cell_type": "code",
      "metadata": {
        "id": "XM6si3JGl_A_",
        "outputId": "432e95ac-52d3-4f3a-fd07-b931cfcdedfc",
        "colab": {
          "base_uri": "https://localhost:8080/",
          "height": 53
        }
      },
      "source": [
        "def prodDigits(n):\n",
        "    res = 1 \n",
        "    while n:\n",
        "        last_digit = n % 10\n",
        "        res *= last_digit\n",
        "        n //= 10\n",
        "    return res\n",
        "\n",
        "n = int(input('enter a no. : '))\n",
        "print(f'product of digits of {n} is', prodDigits(n))"
      ],
      "execution_count": 5,
      "outputs": [
        {
          "output_type": "stream",
          "text": [
            "enter a no. : 5\n",
            "product of digits of 5 is 5\n"
          ],
          "name": "stdout"
        }
      ]
    },
    {
      "cell_type": "code",
      "metadata": {
        "id": "LAxpaGhj0Bqe",
        "outputId": "5ebff243-804a-4689-ca97-eed921264492",
        "colab": {
          "base_uri": "https://localhost:8080/",
          "height": 72
        }
      },
      "source": [
        "def prodDigits(n):\n",
        "    res = 1 \n",
        "    while n:\n",
        "        last_digit = n % 10\n",
        "        res *= last_digit\n",
        "        n //= 10\n",
        "    return res\n",
        "\n",
        "def MDR(n):\n",
        "    MPersistance = 0\n",
        "    while True:\n",
        "        n = prodDigits(n)\n",
        "        MPersistance += 1\n",
        "        if(n // 10 == 0):\n",
        "            return n, MPersistance\n",
        "    \n",
        "\n",
        "n = int(input('enter a no. : '))\n",
        "mdr, mpersistance = MDR(n)\n",
        "print(f'multiplicative digital root of {n} is', mdr)\n",
        "print(f'multiplicative persistance of {n} is', mpersistance)\n"
      ],
      "execution_count": 9,
      "outputs": [
        {
          "output_type": "stream",
          "text": [
            "enter a no. : 341\n",
            "multiplicative digital root of 341 is 2\n",
            "multiplicative persistance of 341 is 2\n"
          ],
          "name": "stdout"
        }
      ]
    },
    {
      "cell_type": "code",
      "metadata": {
        "id": "p6Bqvoa52pwf",
        "outputId": "1530ce2b-48b8-4351-87b8-2131e0051797",
        "colab": {
          "base_uri": "https://localhost:8080/",
          "height": 53
        }
      },
      "source": [
        "def sumPDivisors(n):\n",
        "    res = 0\n",
        "    for i in range(1, n//2 + 1):\n",
        "        if not n % i:\n",
        "            print(i, end=' ')\n",
        "            res += i\n",
        "    return res\n",
        "\n",
        "n = int(input('enter a no. : '))\n",
        "print(f'sum of proper divisors of {n} is', sumPDivisors(n))"
      ],
      "execution_count": 11,
      "outputs": [
        {
          "output_type": "stream",
          "text": [
            "enter a no. : 36\n",
            "1 2 3 4 6 9 12 18 sum of proper divisors of 36 is 55\n"
          ],
          "name": "stdout"
        }
      ]
    },
    {
      "cell_type": "code",
      "metadata": {
        "id": "hua33wwk7YOn",
        "outputId": "ce7de305-5cc5-42d7-c386-48bfef9c9f64",
        "colab": {
          "base_uri": "https://localhost:8080/",
          "height": 72
        }
      },
      "source": [
        "def sumPDivisors(n):\n",
        "    res = 0\n",
        "    for i in range(1, n//2 + 1):\n",
        "        if not n % i:\n",
        "            res += i\n",
        "    return res\n",
        "\n",
        "def isPerfectNo(n):\n",
        "    return True if (n == sumPDivisors(n)) else False\n",
        "\n",
        "start = int(input('enter the start of the range :'))\n",
        "end = int(input('enter the end of the range :'))\n",
        "\n",
        "perfectNos = []\n",
        "for i in range(start, end + 1):\n",
        "    if isPerfectNo(i):\n",
        "        perfectNos.append(i)\n",
        "\n",
        "if perfectNos:\n",
        "    print(f'perfect no.s in the range [{start}, {end}] are',end= ' ')\n",
        "    print(*perfectNos, sep=\", \")\n",
        "else:\n",
        "    print(f'There are no perfect no.s in the range [{start}, {end}]')"
      ],
      "execution_count": 18,
      "outputs": [
        {
          "output_type": "stream",
          "text": [
            "enter the start of the range :1\n",
            "enter the end of the range :100\n",
            "perfect no.s in the range [1, 100] are 6, 28\n"
          ],
          "name": "stdout"
        }
      ]
    },
    {
      "cell_type": "code",
      "metadata": {
        "id": "Z5bR_0499ojP",
        "outputId": "1bb3a107-e226-4a80-82cc-dbd1705ee937",
        "colab": {
          "base_uri": "https://localhost:8080/",
          "height": 72
        }
      },
      "source": [
        "def sumPDivisors(n):\n",
        "    res = 0\n",
        "    for i in range(1, n//2 + 1):\n",
        "        if not n % i:\n",
        "            res += i\n",
        "    return res\n",
        "\n",
        "a = int(input('enter the first no. :'))\n",
        "b = int(input('enter the second no. :'))\n",
        "\n",
        "if (a, b) == (sumPDivisors(b), sumPDivisors(a)):\n",
        "    print(f'{a} and {b} are amicable no.s')\n",
        "else:\n",
        "    print(f'{a} and {b} are not amicable no.s')"
      ],
      "execution_count": 21,
      "outputs": [
        {
          "output_type": "stream",
          "text": [
            "enter the first no. :220\n",
            "enter the second no. :285\n",
            "220 and 285 are not amicable no.s\n"
          ],
          "name": "stdout"
        }
      ]
    },
    {
      "cell_type": "code",
      "metadata": {
        "id": "58v36vYl-SJ3",
        "outputId": "dff8abd8-4c09-4960-99a2-4e013ad78c79",
        "colab": {
          "base_uri": "https://localhost:8080/",
          "height": 53
        }
      },
      "source": [
        "l = tuple(map(int, input('enter a list of nos. (space separated) :').strip().split()))\n",
        "\n",
        "def isOdd(n):\n",
        "    return True if (n % 2 != 0) else False\n",
        "oddNos = tuple(filter(isOdd, l))\n",
        "if oddNos:\n",
        "    print(f'Odd no.s in {l} are {oddNos}')\n",
        "else:\n",
        "    print(f'There are no Odd no.s in {l}')\n"
      ],
      "execution_count": 33,
      "outputs": [
        {
          "output_type": "stream",
          "text": [
            "enter a list of nos. (space separated) :1 2 3 4 5 6 7 8 9\n",
            "Odd no.s in (1, 2, 3, 4, 5, 6, 7, 8, 9) are (1, 3, 5, 7, 9)\n"
          ],
          "name": "stdout"
        }
      ]
    },
    {
      "cell_type": "code",
      "metadata": {
        "id": "Qh82Ur9YCVIV",
        "outputId": "bdec72a9-eb75-4ad2-f556-70fc6227dd8f",
        "colab": {
          "base_uri": "https://localhost:8080/",
          "height": 53
        }
      },
      "source": [
        "l1 = list(map(int, input('enter a list of nos. (space separated) :').strip().split()))\n",
        "def cubeInList(n):\n",
        "    global l1\n",
        "    if n**3 in l1:\n",
        "        return n\n",
        "\n",
        "def isNotNone(n):\n",
        "    return True if n is not None else False\n",
        "l2 = list(filter(isNotNone, map(cubeInList, l1)))\n",
        "print('new list :', l2)"
      ],
      "execution_count": 48,
      "outputs": [
        {
          "output_type": "stream",
          "text": [
            "enter a list of nos. (space separated) :1 2 3 4 5 6 7 8 9\n",
            "new list : [1, 2]\n"
          ],
          "name": "stdout"
        }
      ]
    },
    {
      "cell_type": "code",
      "metadata": {
        "id": "1ve7bG5eFiTM",
        "outputId": "03c70f6a-a056-4b9a-aa8c-576d2544bd49",
        "colab": {
          "base_uri": "https://localhost:8080/",
          "height": 53
        }
      },
      "source": [
        "l1 = list(map(int, input('enter a list of nos. (space separated) :').strip().split()))\n",
        "def cubeOfEvenNo(n):\n",
        "    if n % 2 == 0:\n",
        "        return n**3\n",
        "\n",
        "def isNotNone(n):\n",
        "    return True if n is not None else False\n",
        "\n",
        "l2 = list(filter(isNotNone, map(cubeOfEvenNo, l1)))\n",
        "print('new list :', l2)"
      ],
      "execution_count": 49,
      "outputs": [
        {
          "output_type": "stream",
          "text": [
            "enter a list of nos. (space separated) :1 2 3 4 5 6 7 8 9\n",
            "new list : [8, 64, 216, 512]\n"
          ],
          "name": "stdout"
        }
      ]
    }
  ]
}